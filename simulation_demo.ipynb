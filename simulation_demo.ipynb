{
 "cells": [
  {
   "cell_type": "code",
   "execution_count": 328,
   "id": "09f7870a",
   "metadata": {},
   "outputs": [],
   "source": [
    "from simulation import Voter, Community\n",
    "import random as rnd"
   ]
  },
  {
   "cell_type": "code",
   "execution_count": 329,
   "id": "8ce7eac5",
   "metadata": {},
   "outputs": [],
   "source": [
    "def sim_create_comm(num_voters):\n",
    "    Person = 0\n",
    "    Blue_Limit = .52 #\n",
    "    Red_Limit = .97\n",
    "    Grey_Limit = 1\n",
    "    Total_Blues = 0\n",
    "    Total_Reds = 0\n",
    "    Total_Greys = 0\n",
    "    Total_Lean = \"\"\n",
    "    community = Community()\n",
    "\n",
    "    while Person < num_voters:\n",
    "        number = rnd.random()\n",
    "        if number < Blue_Limit:\n",
    "            lean = \"+\"\n",
    "            Blue_Limit_New = .7\n",
    "            Red_Limit_New = .97\n",
    "            Grey_Limit_New = 1\n",
    "            Total_Blues = Total_Blues + 1\n",
    "        elif number < Red_Limit:\n",
    "            lean = \"-\"\n",
    "            Blue_Limit_New = .32\n",
    "            Red_Limit_New = .97\n",
    "            Grey_Limit_New = 1\n",
    "            Total_Reds = Total_Reds + 1\n",
    "        else:\n",
    "            lean = \"?\"\n",
    "            Blue_Limit_New = .45\n",
    "            Red_Limit_New = .9\n",
    "            Grey_Limit_New = 1\n",
    "            Total_Greys = Total_Greys + 1\n",
    "        v = Voter(lean) #?\n",
    "        community.Add_Voter(v)\n",
    "        Blue_Limit = Blue_Limit_New\n",
    "        Red_Limit = Red_Limit_New\n",
    "        Grey_Limit = Grey_Limit_New\n",
    "        Total_Lean = Total_Lean + lean\n",
    "        Person = Person + 1\n",
    "    return community\n"
   ]
  },
  {
   "cell_type": "code",
   "execution_count": 330,
   "id": "4bb7e3b8",
   "metadata": {},
   "outputs": [],
   "source": [
    "def sim_sequential_split(comm_obj, num_distr, seq_size):\n",
    "    #divides by given value\n",
    "    # Iteratively compose each district\n",
    "    for i in range(0, num_distr):\n",
    "        #define a district\n",
    "        D = Community()\n",
    "        #assign the proper voters to the proper district (voters 0 through 9 to District 1, voters 10 through 19 to District 2, etc...)\n",
    "        D.voter_list = comm_obj.voter_list[i*seq_size : i*seq_size + seq_size]\n",
    "        comm_obj.Add_District(D)\n",
    "    return comm_obj"
   ]
  },
  {
   "cell_type": "code",
   "execution_count": 331,
   "id": "59fc99e3",
   "metadata": {},
   "outputs": [],
   "source": [
    "def sim_shuffled_seq_split(comm_obj, num_distr, seq_size):\n",
    "    # Shuffle voter list first\n",
    "    rnd.shuffle(comm_obj.voter_list)\n",
    "    # Iteratively compose each district\n",
    "    for i in range(0, num_distr):\n",
    "        #define a district\n",
    "        D = Community()\n",
    "        #assign the proper voters to the proper district (voters 0 through 9 to District 1, voters 10 through 19 to District 2, etc...)\n",
    "        D.voter_list = comm_obj.voter_list[i*seq_size : i*seq_size + seq_size]\n",
    "        comm_obj.Add_District(D)\n",
    "    return comm_obj"
   ]
  },
  {
   "cell_type": "code",
   "execution_count": 341,
   "id": "63698ad0",
   "metadata": {},
   "outputs": [],
   "source": [
    "def sim_step_split(comm_obj, comm_size, num_distr, step_size):\n",
    "    # Iteratively compose each district \n",
    "    for i in range(0, num_distr):\n",
    "        \n",
    "        # Define a district\n",
    "        D = Community()\n",
    "        # Update voter index for next district starting at i\n",
    "        voter_index = i\n",
    "        # Iterate through the community.voter_list (1D)\n",
    "        while voter_index < comm_size:\n",
    "            # Pick a voter: one in every step_size \n",
    "            # Append to voter_ls\n",
    "            D.voter_list.append(comm_obj.voter_list[voter_index])\n",
    "            # Update voter index\n",
    "            voter_index = voter_index + step_size\n",
    "      \n",
    "        # Add district into community district list\n",
    "        comm_obj.Add_District(D)\n",
    "\n",
    "    # Return the Community object\n",
    "    return comm_obj"
   ]
  },
  {
   "cell_type": "code",
   "execution_count": 347,
   "id": "ce40045b",
   "metadata": {},
   "outputs": [],
   "source": [
    "def sim_shuffled_step_split(comm_obj, comm_size, num_distr, step_size):\n",
    "   \n",
    "    # Shuffle community voter list first\n",
    "    rnd.shuffle(comm_obj.voter_list)\n",
    "    # Iteratively compose each district \n",
    "    for i in range(0, num_distr):\n",
    "        \n",
    "        # Define a district\n",
    "        D = Community()\n",
    "        # Update voter index for next district starting at i\n",
    "        voter_index = i\n",
    "        \n",
    "        # Iterate through the community.voter_list (1D)\n",
    "        while voter_index < comm_size:\n",
    "            # Pick a voter: one in every step_size \n",
    "            # Append to voter_ls\n",
    "            D.voter_list.append(comm_obj.voter_list[voter_index])\n",
    "            # Update voter index\n",
    "            voter_index = voter_index + step_size\n",
    "        # District will hold this list of voters\n",
    "        \n",
    "        # Add district into community district list\n",
    "        comm_obj.Add_District(D)\n",
    "        \n",
    "    # Return the Community object\n",
    "    return comm_obj"
   ]
  },
  {
   "cell_type": "code",
   "execution_count": 352,
   "id": "733a6da7",
   "metadata": {},
   "outputs": [],
   "source": [
    "def get_2D_arr(comm_obj):\n",
    "    voter_map = []\n",
    "    for D in comm_obj.voter_districts:\n",
    "        v_str_list = [char for char in D.Get_Voter_String()]\n",
    "        voter_map.append(v_str_list)\n",
    "    return voter_map"
   ]
  },
  {
   "cell_type": "code",
   "execution_count": 353,
   "id": "d1b5a646",
   "metadata": {},
   "outputs": [],
   "source": [
    "def assign_value_to_leaning(nested_list):\n",
    "    num_map = [] # nested list \n",
    "    hash_map = {'-': -1, '?': 0, '+': 1}\n",
    "    for ls in nested_list:\n",
    "        num_map.append([hash_map[lean] for lean in ls])\n",
    "    return num_map"
   ]
  },
  {
   "cell_type": "code",
   "execution_count": 343,
   "id": "823f94f1",
   "metadata": {},
   "outputs": [],
   "source": [
    "def show_distr_result(comm_obj):\n",
    "    for D in comm_obj.voter_districts:\n",
    "        print(D.Get_Voter_String())\n",
    "        print(D.Get_Community_Lean())"
   ]
  },
  {
   "cell_type": "code",
   "execution_count": 344,
   "id": "ff987146",
   "metadata": {},
   "outputs": [],
   "source": [
    "def show_comm_result(comm_obj):\n",
    "    districts_leaning_blue = 0\n",
    "    districts_leaning_red = 0\n",
    "    districts_leaning_grey = 0\n",
    "\n",
    "    for d in comm_obj.voter_districts: # voter_districts after split\n",
    "        if d.Get_Community_Lean() == \"Blue\":\n",
    "            districts_leaning_blue = districts_leaning_blue + 1\n",
    "        elif d.Get_Community_Lean() == \"Red\":\n",
    "            districts_leaning_red = districts_leaning_red + 1\n",
    "        elif d.Get_Community_Lean() == \"Grey\":\n",
    "            districts_leaning_grey = districts_leaning_grey + 1\n",
    "\n",
    "    districts_lean = \"\"\n",
    "    if districts_leaning_blue >= districts_leaning_red and districts_leaning_blue >= districts_leaning_grey:\n",
    "        districts_lean = \"Blue\"\n",
    "    elif districts_leaning_red >= districts_leaning_blue and districts_leaning_red >= districts_leaning_grey:\n",
    "        districts_lean = \"Red\"\n",
    "    elif districts_leaning_grey >= districts_leaning_blue and districts_leaning_grey >= districts_leaning_red:\n",
    "        districts_lean = \"Grey\"\n",
    "\n",
    "    print(\"\\t\\t\\tPlus\\tMinus\\tIndep\")\n",
    "    print(\"Community leaning:\", comm_obj.Get_Community_Lean(), comm_obj.voter_lean_blue, \"\\t\", comm_obj.voter_lean_red, \"\\t\", comm_obj.voter_lean_grey)\n",
    "    print(\"Districts leaning:\", districts_lean, districts_leaning_blue, \"\\t\", districts_leaning_red, \"\\t\", districts_leaning_grey)"
   ]
  },
  {
   "cell_type": "code",
   "execution_count": 345,
   "id": "47917066",
   "metadata": {},
   "outputs": [
    {
     "name": "stdout",
     "output_type": "stream",
     "text": [
      "\n"
     ]
    }
   ],
   "source": [
    "def show_comm_before_split(community):\n",
    "    print()\n",
    "    print(community.Get_Voter_String())\n",
    "    print(community.Get_Community_Lean(), community.voter_lean_blue, community.voter_lean_red, community.voter_lean_grey)\n",
    "print()"
   ]
  },
  {
   "cell_type": "code",
   "execution_count": 346,
   "id": "ddceb22a",
   "metadata": {},
   "outputs": [
    {
     "name": "stdout",
     "output_type": "stream",
     "text": [
      "\n",
      "++-+++--++--+--+?+++++++-+++++??-++---+--++--++-+++++--+++++-+-+-+-++-----+++-+++-++--+--++----+-+--\n",
      "Blue 56 41 3\n",
      "Simulation Step Split result:\n",
      "+-+?-+--++\n",
      "Blue\n",
      "+-+?+++---\n",
      "Blue\n",
      "-++-++--+-\n",
      "Blue\n",
      "+-++--+-+-\n",
      "Blue\n",
      "+--+---+--\n",
      "Red\n",
      "+++-++++-+\n",
      "Blue\n",
      "-?+-++-++-\n",
      "Blue\n",
      "-++--++--+\n",
      "Blue\n",
      "++++++++--\n",
      "Blue\n",
      "+++-++-++-\n",
      "Blue\n",
      "\t\t\tPlus\tMinus\tIndep\n",
      "Community leaning: Blue 56 \t 41 \t 3\n",
      "Districts leaning: Blue 9 \t 1 \t 0\n"
     ]
    }
   ],
   "source": [
    "# number of districts\n",
    "num_district = 10\n",
    "# community size:\n",
    "com_size = 100 # len(community.voter_list)\n",
    "# step size\n",
    "step = 10\n",
    "\n",
    "C2 = sim_create_comm(com_size)\n",
    "show_comm_before_split(C2)\n",
    "C2 = sim_step_split(C2, com_size, num_district, step)\n",
    "\n",
    "print(\"Simulation Step Split result:\")\n",
    "\n",
    "show_distr_result(C2)\n",
    "show_comm_result(C2)\n",
    "\n"
   ]
  },
  {
   "cell_type": "code",
   "execution_count": 360,
   "id": "5826f736",
   "metadata": {},
   "outputs": [
    {
     "name": "stdout",
     "output_type": "stream",
     "text": [
      "Sequential Split Result:\n",
      "--+----+++\n",
      "Red\n",
      "++--++++++\n",
      "Blue\n",
      "--+-?+--++\n",
      "Red\n",
      "++--+++---\n",
      "Blue\n",
      "++++++++-+\n",
      "Blue\n",
      "++-+--++?+\n",
      "Blue\n",
      "++---++--+\n",
      "Blue\n",
      "---+-+---+\n",
      "Red\n",
      "+++-++---+\n",
      "Blue\n",
      "+++-++--++\n",
      "Blue\n",
      "\t\t\tPlus\tMinus\tIndep\n",
      "Community leaning: Blue 57 \t 41 \t 2\n",
      "Districts leaning: Blue 7 \t 3 \t 0\n",
      "[[-1, -1, 1, -1, -1, -1, -1, 1, 1, 1], [1, 1, -1, -1, 1, 1, 1, 1, 1, 1], [-1, -1, 1, -1, 0, 1, -1, -1, 1, 1], [1, 1, -1, -1, 1, 1, 1, -1, -1, -1], [1, 1, 1, 1, 1, 1, 1, 1, -1, 1], [1, 1, -1, 1, -1, -1, 1, 1, 0, 1], [1, 1, -1, -1, -1, 1, 1, -1, -1, 1], [-1, -1, -1, 1, -1, 1, -1, -1, -1, 1], [1, 1, 1, -1, 1, 1, -1, -1, -1, 1], [1, 1, 1, -1, 1, 1, -1, -1, 1, 1]]\n"
     ]
    }
   ],
   "source": [
    "C1 = sim_create_comm(com_size)\n",
    "C1 = sim_sequential_split(C1, num_district, step)\n",
    "print(\"Sequential Split Result:\")\n",
    "show_distr_result(C1)\n",
    "show_comm_result(C1) \n",
    "M = get_2D_arr(C1)\n",
    "leaning_map = assign_value_to_leaning(M)\n",
    "print(leaning_map)"
   ]
  },
  {
   "cell_type": "code",
   "execution_count": 361,
   "id": "f0393eca",
   "metadata": {},
   "outputs": [
    {
     "data": {
      "image/png": "[encoded data removed]",
      "text/plain": [
       "<Figure size 432x288 with 1 Axes>"
      ]
     },
     "metadata": {
      "needs_background": "light"
     },
     "output_type": "display_data"
    }
   ],
   "source": [
    "import numpy as np\n",
    "import matplotlib.pyplot as plt\n",
    "\n",
    "# Fixing random state for reproducibility\n",
    "np.random.seed(19680801)\n",
    "\n",
    "# example: -1 (minus); 0 (neutral); 1 (plus) \n",
    "X = np.asarray(leaning_map) # our 2-D goes here instead of np.random\n",
    "\n",
    "fig, ax = plt.subplots()\n",
    "ax.imshow(X)\n",
    "\n",
    "numrows, numcols = X.shape\n",
    "\n",
    "\n",
    "def format_coord(x, y):\n",
    "    col = int(x + 0.5)\n",
    "    row = int(y + 0.5)\n",
    "    if 0 <= col < numcols and 0 <= row < numrows:\n",
    "        z = X[row, col]\n",
    "        return 'x=%1.5f, y=%1.5f, z=%1.0f' % (x, y, z)\n",
    "    else:\n",
    "        return 'x=%2.0f, y=%2.0f' % (x, y)\n",
    "\n",
    "ax.format_coord = format_coord\n",
    "plt.show()"
   ]
  },
  {
   "cell_type": "code",
   "execution_count": null,
   "id": "4ea28422",
   "metadata": {},
   "outputs": [],
   "source": []
  }
 ],
 "metadata": {
  "environment": {
   "name": "common-cpu.m73",
   "type": "gcloud",
   "uri": "gcr.io/deeplearning-platform-release/base-cpu:m73"
  },
  "kernelspec": {
   "display_name": "Python 3",
   "language": "python",
   "name": "python3"
  },
  "language_info": {
   "codemirror_mode": {
    "name": "ipython",
    "version": 3
   },
   "file_extension": ".py",
   "mimetype": "text/x-python",
   "name": "python",
   "nbconvert_exporter": "python",
   "pygments_lexer": "ipython3",
   "version": "3.7.10"
  }
 },
 "nbformat": 4,
 "nbformat_minor": 5
}
