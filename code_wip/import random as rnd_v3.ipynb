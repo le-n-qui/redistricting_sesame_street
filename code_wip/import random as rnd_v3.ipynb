{
 "cells": [
  {
   "cell_type": "code",
   "execution_count": 1,
   "metadata": {
    "executionInfo": {
     "elapsed": 19,
     "status": "ok",
     "timestamp": 1625940657672,
     "user": {
      "displayName": "Faiz Ikramulla",
      "photoUrl": "https://lh3.googleusercontent.com/a-/AOh14Gh7wC-sN-_JqiH2qfxfrvGhNIJjafGKLk1NOkM9RA=s64",
      "userId": "06226127205799252353"
     },
     "user_tz": 300
    },
    "id": "kDQUPe6XnEiE"
   },
   "outputs": [],
   "source": [
    "import random as rnd\n",
    "from typing import Sized"
   ]
  },
  {
   "cell_type": "code",
   "execution_count": 2,
   "metadata": {
    "executionInfo": {
     "elapsed": 123,
     "status": "ok",
     "timestamp": 1625940660701,
     "user": {
      "displayName": "Faiz Ikramulla",
      "photoUrl": "https://lh3.googleusercontent.com/a-/AOh14Gh7wC-sN-_JqiH2qfxfrvGhNIJjafGKLk1NOkM9RA=s64",
      "userId": "06226127205799252353"
     },
     "user_tz": 300
    },
    "id": "rg4uCP8KnQMj"
   },
   "outputs": [],
   "source": [
    "class Voter():\n",
    "    def __init__(self):\n",
    "        self.lean = \"_\"\n",
    "    def __init__(self, lean):\n",
    "        self.lean = lean\n",
    "    def set_lean(self, voter_lean):\n",
    "        self.lean = voter_lean\n",
    "class Community():\n",
    "    def __init__(self):\n",
    "        self.voter_list = [] # a community is a collection of voters\n",
    "        self.voter_districts = [] # a community is also a collection of districts, voters belong in districts\n",
    "        self.voter_lean_blue = 0\n",
    "        self.voter_lean_red = 0\n",
    "        self.voter_lean_grey = 0\n",
    "    def Add_Voter(self, voter):\n",
    "        self.voter_list.append(voter)\n",
    "    def Add_District(self, district):\n",
    "        self.voter_districts.append(district)\n",
    "    def Get_Voter_String(self):\n",
    "        Voter_String = \"\"\n",
    "        for v in self.voter_list:\n",
    "            Voter_String = Voter_String + v.lean\n",
    "        return Voter_String\n",
    "    def Get_Community_Lean(self):\n",
    "        self.voter_lean_blue = 0\n",
    "        self.voter_lean_red = 0\n",
    "        self.voter_lean_grey = 0\n",
    "        for voter in self.voter_list:\n",
    "            if voter.lean == \"+\":\n",
    "                self.voter_lean_blue = self.voter_lean_blue + 1\n",
    "            elif voter.lean == \"-\":\n",
    "                self.voter_lean_red = self.voter_lean_red + 1\n",
    "            else:\n",
    "                self.voter_lean_grey = self.voter_lean_grey + 1\n",
    "        if self.voter_lean_blue >= self.voter_lean_red and self.voter_lean_blue >= self.voter_lean_grey:\n",
    "            community_lean = \"Blue\"\n",
    "        elif self.voter_lean_red >= self.voter_lean_blue and self.voter_lean_red >= self.voter_lean_grey:\n",
    "            community_lean = \"Red\"\n",
    "        elif self.voter_lean_grey >= self.voter_lean_blue and self.voter_lean_grey >= self.voter_lean_red:\n",
    "            community_lean = \"Grey\"\n",
    "        return community_lean"
   ]
  },
  {
   "cell_type": "code",
   "execution_count": 3,
   "metadata": {
    "colab": {
     "base_uri": "https://localhost:8080/"
    },
    "executionInfo": {
     "elapsed": 147,
     "status": "ok",
     "timestamp": 1625940664693,
     "user": {
      "displayName": "Faiz Ikramulla",
      "photoUrl": "https://lh3.googleusercontent.com/a-/AOh14Gh7wC-sN-_JqiH2qfxfrvGhNIJjafGKLk1NOkM9RA=s64",
      "userId": "06226127205799252353"
     },
     "user_tz": 300
    },
    "id": "djODI2zWnUGY",
    "outputId": "bd163d82-9b7d-4608-9fb6-3cff4cb2baba"
   },
   "outputs": [
    {
     "name": "stdout",
     "output_type": "stream",
     "text": [
      "\n",
      "++-+++-+++-+------------?-+++---++-?--++++++++----+---++-++--+++--+++++++--+------++++----+-+++-+--+\n",
      "Red 48 50 2\n",
      "\n",
      "\n",
      "++-+++-+++\n",
      "Blue\n",
      "\n",
      "-+--------\n",
      "Red\n",
      "\n",
      "----?-+++-\n",
      "Red\n",
      "\n",
      "--++-?--++\n",
      "Red\n",
      "\n",
      "++++++----\n",
      "Blue\n",
      "\n",
      "+---++-++-\n",
      "Blue\n",
      "\n",
      "-+++--++++\n",
      "Blue\n",
      "\n",
      "+++--+----\n",
      "Red\n",
      "\n",
      "--++++----\n",
      "Red\n",
      "\n",
      "+-+++-+--+\n",
      "Blue\n",
      "\n",
      "Red 48 50 2\n",
      "Blue 5 5 0\n"
     ]
    }
   ],
   "source": [
    "#create a random selection of 100 people\n",
    "#40% chance \"+\", 30% chance \"-\", 30% chance \"?\"\n",
    "#0-.4 Blue .4-.7 Red .7-1 Grey\n",
    "#you are *more likely* to be the same color as your neighbor\n",
    "Person = 0\n",
    "Blue_Limit = .52\n",
    "Red_Limit = .97\n",
    "Grey_Limit = 1\n",
    "Total_Blues = 0\n",
    "Total_Reds = 0\n",
    "Total_Greys = 0\n",
    "Total_Lean = \"\"\n",
    "community = Community()\n",
    "while Person < 100:\n",
    "    number = rnd.random()\n",
    "    if number < Blue_Limit:\n",
    "        lean = \"+\"\n",
    "        Blue_Limit_New = .7\n",
    "        Red_Limit_New = .97\n",
    "        Grey_Limit_New = 1\n",
    "        Total_Blues = Total_Blues + 1\n",
    "    elif number < Red_Limit:\n",
    "        lean = \"-\"\n",
    "        Blue_Limit_New = .32\n",
    "        Red_Limit_New = .97\n",
    "        Grey_Limit_New = 1\n",
    "        Total_Reds = Total_Reds + 1\n",
    "    else:\n",
    "        lean = \"?\"\n",
    "        Blue_Limit_New = .45\n",
    "        Red_Limit_New = .9\n",
    "        Grey_Limit_New = 1\n",
    "        Total_Greys = Total_Greys + 1\n",
    "    v = Voter(lean)\n",
    "    community.Add_Voter(v)\n",
    "    Blue_Limit = Blue_Limit_New\n",
    "    Red_Limit = Red_Limit_New\n",
    "    Grey_Limit = Grey_Limit_New\n",
    "    Total_Lean = Total_Lean + lean\n",
    "    Person = Person + 1\n",
    "print ()\n",
    "print (community.Get_Voter_String())\n",
    "print (community.Get_Community_Lean(), community.voter_lean_blue, community.voter_lean_red, community.voter_lean_grey)\n",
    "print ()\n",
    "#let's split up our community in smaller communities (i.e. districts)\n",
    "for i in range(0, 10):\n",
    "    #define a district\n",
    "    D = Community()\n",
    "    #assign the proper voters to the proper district (voters 0 through 9 to District 1, voters 10 through 19 to District 2, etc...)\n",
    "    D.voter_list = community.voter_list[i*10 : i*10 + 10]\n",
    "    community.Add_District(D)\n",
    "    print()\n",
    "    print (D.Get_Voter_String())\n",
    "    print (D.Get_Community_Lean())\n",
    "districts_leaning_blue = 0\n",
    "districts_leaning_red = 0\n",
    "districts_leaning_grey = 0\n",
    "for d in community.voter_districts:\n",
    "    if d.Get_Community_Lean() == \"Blue\":\n",
    "        districts_leaning_blue = districts_leaning_blue + 1\n",
    "    elif d.Get_Community_Lean() == \"Red\":\n",
    "        districts_leaning_red = districts_leaning_red + 1\n",
    "    elif d.Get_Community_Lean() == \"Grey\":\n",
    "        districts_leaning_grey = districts_leaning_grey + 1\n",
    "districts_lean = \"\"\n",
    "if districts_leaning_blue >= districts_leaning_red and districts_leaning_blue >= districts_leaning_grey:\n",
    "    districts_lean = \"Blue\"\n",
    "elif districts_leaning_red >= districts_leaning_blue and districts_leaning_red >= districts_leaning_grey:\n",
    "    districts_lean = \"Red\"\n",
    "elif districts_leaning_grey >= districts_leaning_blue and districts_leaning_grey >= districts_leaning_red:\n",
    "    districts_lean = \"Grey\"\n",
    "print()\n",
    "print (community.Get_Community_Lean(), community.voter_lean_blue, community.voter_lean_red, community.voter_lean_grey)\n",
    "print (districts_lean, districts_leaning_blue, districts_leaning_red, districts_leaning_grey)"
   ]
  }
 ],
 "metadata": {
  "colab": {
   "authorship_tag": "ABX9TyMAzG9k4sZZrTzXzpbE4ZWu",
   "name": "import random as rnd_v3.ipynb",
   "provenance": []
  },
  "kernelspec": {
   "display_name": "Python 3",
   "language": "python",
   "name": "python3"
  },
  "language_info": {
   "codemirror_mode": {
    "name": "ipython",
    "version": 3
   },
   "file_extension": ".py",
   "mimetype": "text/x-python",
   "name": "python",
   "nbconvert_exporter": "python",
   "pygments_lexer": "ipython3",
   "version": "3.8.6"
  }
 },
 "nbformat": 4,
 "nbformat_minor": 1
}
