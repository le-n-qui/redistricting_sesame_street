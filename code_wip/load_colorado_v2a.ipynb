{
 "cells": [
  {
   "cell_type": "code",
   "execution_count": 11,
   "metadata": {
    "executionInfo": {
     "elapsed": 151,
     "status": "ok",
     "timestamp": 1625923710467,
     "user": {
      "displayName": "Faiz Ikramulla",
      "photoUrl": "https://lh3.googleusercontent.com/a-/AOh14Gh7wC-sN-_JqiH2qfxfrvGhNIJjafGKLk1NOkM9RA=s64",
      "userId": "06226127205799252353"
     },
     "user_tz": 300
    },
    "id": "R9K8kmmUz7ED"
   },
   "outputs": [],
   "source": [
    "#sesame street team\n",
    "#load and wrangle colorado data\n",
    "#July 9 2021\n",
    "#v1"
   ]
  },
  {
   "cell_type": "code",
   "execution_count": 1,
   "metadata": {
    "executionInfo": {
     "elapsed": 211,
     "status": "ok",
     "timestamp": 1625923714881,
     "user": {
      "displayName": "Faiz Ikramulla",
      "photoUrl": "https://lh3.googleusercontent.com/a-/AOh14Gh7wC-sN-_JqiH2qfxfrvGhNIJjafGKLk1NOkM9RA=s64",
      "userId": "06226127205799252353"
     },
     "user_tz": 300
    },
    "id": "x05FPQnMtNJ9"
   },
   "outputs": [],
   "source": [
    "import pandas as pd\n",
    "import numpy\n",
    "import matplotlib.pyplot as plt\n",
    "#from pandas_profiling import ProfileReport\n",
    "#import missingno as msno\n",
    "import random as rnd\n",
    "import os"
   ]
  },
  {
   "cell_type": "code",
   "execution_count": 2,
   "metadata": {},
   "outputs": [
    {
     "data": {
      "text/plain": [
       "'C:\\\\Users\\\\Faiz\\\\Desktop\\\\_PEARC-desktop\\\\notebooks'"
      ]
     },
     "execution_count": 2,
     "metadata": {},
     "output_type": "execute_result"
    }
   ],
   "source": [
    "os.getcwd()"
   ]
  },
  {
   "cell_type": "code",
   "execution_count": 3,
   "metadata": {},
   "outputs": [],
   "source": [
    "os.chdir('C:\\\\Users\\\\Faiz\\\\Desktop\\\\_PEARC-desktop\\\\data\\\\colorado')"
   ]
  },
  {
   "cell_type": "code",
   "execution_count": 4,
   "metadata": {
    "executionInfo": {
     "elapsed": 17775,
     "status": "ok",
     "timestamp": 1625923734100,
     "user": {
      "displayName": "Faiz Ikramulla",
      "photoUrl": "https://lh3.googleusercontent.com/a-/AOh14Gh7wC-sN-_JqiH2qfxfrvGhNIJjafGKLk1NOkM9RA=s64",
      "userId": "06226127205799252353"
     },
     "user_tz": 300
    },
    "id": "lk0A1NdaugSP"
   },
   "outputs": [
    {
     "name": "stderr",
     "output_type": "stream",
     "text": [
      "<ipython-input-4-7413c6ad5caf>:1: FutureWarning: Your version of xlrd is 1.2.0. In xlrd >= 2.0, only the xls format is supported. As a result, the openpyxl engine will be used if it is installed and the engine argument is not specified. Install openpyxl instead.\n",
      "  vote = pd.read_excel('2020GEPrecinctLevelResultsPosted.xlsx')\n",
      "<ipython-input-4-7413c6ad5caf>:2: FutureWarning: Your version of xlrd is 1.2.0. In xlrd >= 2.0, only the xls format is supported. As a result, the openpyxl engine will be used if it is installed and the engine argument is not specified. Install openpyxl instead.\n",
      "  turnout = pd.read_excel('2020GEPrecinctLevelTurnoutPosted.xlsx')\n",
      "<ipython-input-4-7413c6ad5caf>:3: FutureWarning: Your version of xlrd is 1.2.0. In xlrd >= 2.0, only the xls format is supported. As a result, the openpyxl engine will be used if it is installed and the engine argument is not specified. Install openpyxl instead.\n",
      "  primary = pd.read_excel('2020PresPrimaryResultsByCountyFINAL.xlsx')\n",
      "<ipython-input-4-7413c6ad5caf>:4: FutureWarning: Your version of xlrd is 1.2.0. In xlrd >= 2.0, only the xls format is supported. As a result, the openpyxl engine will be used if it is installed and the engine argument is not specified. Install openpyxl instead.\n",
      "  abstract = pd.read_excel('StateAbstractResultsReport.xlsx')\n"
     ]
    }
   ],
   "source": [
    "vote = pd.read_excel('2020GEPrecinctLevelResultsPosted.xlsx') \n",
    "turnout = pd.read_excel('2020GEPrecinctLevelTurnoutPosted.xlsx')\n",
    "primary = pd.read_excel('2020PresPrimaryResultsByCountyFINAL.xlsx')\n",
    "abstract = pd.read_excel('StateAbstractResultsReport.xlsx')\n",
    "co2014 = pd.read_csv('co_2014_heda.csv')"
   ]
  },
  {
   "cell_type": "code",
   "execution_count": 5,
   "metadata": {
    "colab": {
     "base_uri": "https://localhost:8080/",
     "height": 380
    },
    "executionInfo": {
     "elapsed": 154,
     "status": "ok",
     "timestamp": 1625922182707,
     "user": {
      "displayName": "Faiz Ikramulla",
      "photoUrl": "https://lh3.googleusercontent.com/a-/AOh14Gh7wC-sN-_JqiH2qfxfrvGhNIJjafGKLk1NOkM9RA=s64",
      "userId": "06226127205799252353"
     },
     "user_tz": 300
    },
    "id": "wq_WhckJ001H",
    "outputId": "cde964ad-ad69-4683-fbef-19c6aa78bb02"
   },
   "outputs": [
    {
     "data": {
      "text/html": [
       "<div>\n",
       "<style scoped>\n",
       "    .dataframe tbody tr th:only-of-type {\n",
       "        vertical-align: middle;\n",
       "    }\n",
       "\n",
       "    .dataframe tbody tr th {\n",
       "        vertical-align: top;\n",
       "    }\n",
       "\n",
       "    .dataframe thead th {\n",
       "        text-align: right;\n",
       "    }\n",
       "</style>\n",
       "<table border=\"1\" class=\"dataframe\">\n",
       "  <thead>\n",
       "    <tr style=\"text-align: right;\">\n",
       "      <th></th>\n",
       "      <th>State</th>\n",
       "      <th>Year</th>\n",
       "      <th>Election Type</th>\n",
       "      <th>County</th>\n",
       "      <th>Precinct</th>\n",
       "      <th>Office/Issue/Judgeship</th>\n",
       "      <th>Candidate</th>\n",
       "      <th>Party</th>\n",
       "      <th>Candidate Votes</th>\n",
       "      <th>Yes Votes</th>\n",
       "      <th>No Votes</th>\n",
       "    </tr>\n",
       "  </thead>\n",
       "  <tbody>\n",
       "    <tr>\n",
       "      <th>0</th>\n",
       "      <td>Colorado</td>\n",
       "      <td>2020</td>\n",
       "      <td>G</td>\n",
       "      <td>Adams</td>\n",
       "      <td>4253001245</td>\n",
       "      <td>President/Vice President</td>\n",
       "      <td>Joseph R. Biden / Kamala D. Harris</td>\n",
       "      <td>Democratic Party</td>\n",
       "      <td>72</td>\n",
       "      <td>0</td>\n",
       "      <td>0</td>\n",
       "    </tr>\n",
       "    <tr>\n",
       "      <th>1</th>\n",
       "      <td>Colorado</td>\n",
       "      <td>2020</td>\n",
       "      <td>G</td>\n",
       "      <td>Adams</td>\n",
       "      <td>4253001245</td>\n",
       "      <td>President/Vice President</td>\n",
       "      <td>Donald J. Trump / Michael R. Pence</td>\n",
       "      <td>Republican Party</td>\n",
       "      <td>279</td>\n",
       "      <td>0</td>\n",
       "      <td>0</td>\n",
       "    </tr>\n",
       "    <tr>\n",
       "      <th>2</th>\n",
       "      <td>Colorado</td>\n",
       "      <td>2020</td>\n",
       "      <td>G</td>\n",
       "      <td>Adams</td>\n",
       "      <td>4253001245</td>\n",
       "      <td>President/Vice President</td>\n",
       "      <td>Don Blankenship / William Mohr</td>\n",
       "      <td>American Constitution Party</td>\n",
       "      <td>0</td>\n",
       "      <td>0</td>\n",
       "      <td>0</td>\n",
       "    </tr>\n",
       "    <tr>\n",
       "      <th>3</th>\n",
       "      <td>Colorado</td>\n",
       "      <td>2020</td>\n",
       "      <td>G</td>\n",
       "      <td>Adams</td>\n",
       "      <td>4253001245</td>\n",
       "      <td>President/Vice President</td>\n",
       "      <td>Bill Hammons / Eric Bodenstab</td>\n",
       "      <td>Unity Party of Colorado</td>\n",
       "      <td>0</td>\n",
       "      <td>0</td>\n",
       "      <td>0</td>\n",
       "    </tr>\n",
       "    <tr>\n",
       "      <th>4</th>\n",
       "      <td>Colorado</td>\n",
       "      <td>2020</td>\n",
       "      <td>G</td>\n",
       "      <td>Adams</td>\n",
       "      <td>4253001245</td>\n",
       "      <td>President/Vice President</td>\n",
       "      <td>Howie Hawkins / Angela Nicole Walker</td>\n",
       "      <td>Green Party</td>\n",
       "      <td>0</td>\n",
       "      <td>0</td>\n",
       "      <td>0</td>\n",
       "    </tr>\n",
       "  </tbody>\n",
       "</table>\n",
       "</div>"
      ],
      "text/plain": [
       "      State  Year Election Type County    Precinct    Office/Issue/Judgeship  \\\n",
       "0  Colorado  2020             G  Adams  4253001245  President/Vice President   \n",
       "1  Colorado  2020             G  Adams  4253001245  President/Vice President   \n",
       "2  Colorado  2020             G  Adams  4253001245  President/Vice President   \n",
       "3  Colorado  2020             G  Adams  4253001245  President/Vice President   \n",
       "4  Colorado  2020             G  Adams  4253001245  President/Vice President   \n",
       "\n",
       "                              Candidate                        Party  \\\n",
       "0    Joseph R. Biden / Kamala D. Harris             Democratic Party   \n",
       "1    Donald J. Trump / Michael R. Pence             Republican Party   \n",
       "2        Don Blankenship / William Mohr  American Constitution Party   \n",
       "3         Bill Hammons / Eric Bodenstab      Unity Party of Colorado   \n",
       "4  Howie Hawkins / Angela Nicole Walker                  Green Party   \n",
       "\n",
       "   Candidate Votes  Yes Votes  No Votes  \n",
       "0               72          0         0  \n",
       "1              279          0         0  \n",
       "2                0          0         0  \n",
       "3                0          0         0  \n",
       "4                0          0         0  "
      ]
     },
     "execution_count": 5,
     "metadata": {},
     "output_type": "execute_result"
    }
   ],
   "source": [
    "vote.head()"
   ]
  },
  {
   "cell_type": "code",
   "execution_count": 6,
   "metadata": {
    "colab": {
     "base_uri": "https://localhost:8080/",
     "height": 300
    },
    "executionInfo": {
     "elapsed": 65,
     "status": "ok",
     "timestamp": 1625923257782,
     "user": {
      "displayName": "Faiz Ikramulla",
      "photoUrl": "https://lh3.googleusercontent.com/a-/AOh14Gh7wC-sN-_JqiH2qfxfrvGhNIJjafGKLk1NOkM9RA=s64",
      "userId": "06226127205799252353"
     },
     "user_tz": 300
    },
    "id": "H-wbN4Ro1FN4",
    "outputId": "4ed4e59c-a71f-40f2-f21c-4d690d8eebd7"
   },
   "outputs": [
    {
     "data": {
      "text/html": [
       "<div>\n",
       "<style scoped>\n",
       "    .dataframe tbody tr th:only-of-type {\n",
       "        vertical-align: middle;\n",
       "    }\n",
       "\n",
       "    .dataframe tbody tr th {\n",
       "        vertical-align: top;\n",
       "    }\n",
       "\n",
       "    .dataframe thead th {\n",
       "        text-align: right;\n",
       "    }\n",
       "</style>\n",
       "<table border=\"1\" class=\"dataframe\">\n",
       "  <thead>\n",
       "    <tr style=\"text-align: right;\">\n",
       "      <th></th>\n",
       "      <th>Year</th>\n",
       "      <th>Precinct</th>\n",
       "      <th>Candidate Votes</th>\n",
       "      <th>Yes Votes</th>\n",
       "      <th>No Votes</th>\n",
       "    </tr>\n",
       "  </thead>\n",
       "  <tbody>\n",
       "    <tr>\n",
       "      <th>count</th>\n",
       "      <td>211946.0</td>\n",
       "      <td>2.119460e+05</td>\n",
       "      <td>211946.000000</td>\n",
       "      <td>211946.000000</td>\n",
       "      <td>211946.000000</td>\n",
       "    </tr>\n",
       "    <tr>\n",
       "      <th>mean</th>\n",
       "      <td>2020.0</td>\n",
       "      <td>4.080088e+09</td>\n",
       "      <td>94.949034</td>\n",
       "      <td>194.322861</td>\n",
       "      <td>108.247492</td>\n",
       "    </tr>\n",
       "    <tr>\n",
       "      <th>std</th>\n",
       "      <td>0.0</td>\n",
       "      <td>2.018841e+09</td>\n",
       "      <td>228.912782</td>\n",
       "      <td>315.032716</td>\n",
       "      <td>194.516744</td>\n",
       "    </tr>\n",
       "    <tr>\n",
       "      <th>min</th>\n",
       "      <td>2020.0</td>\n",
       "      <td>1.160116e+09</td>\n",
       "      <td>0.000000</td>\n",
       "      <td>0.000000</td>\n",
       "      <td>0.000000</td>\n",
       "    </tr>\n",
       "    <tr>\n",
       "      <th>25%</th>\n",
       "      <td>2020.0</td>\n",
       "      <td>2.171207e+09</td>\n",
       "      <td>0.000000</td>\n",
       "      <td>0.000000</td>\n",
       "      <td>0.000000</td>\n",
       "    </tr>\n",
       "    <tr>\n",
       "      <th>50%</th>\n",
       "      <td>2020.0</td>\n",
       "      <td>4.044418e+09</td>\n",
       "      <td>0.000000</td>\n",
       "      <td>0.000000</td>\n",
       "      <td>0.000000</td>\n",
       "    </tr>\n",
       "    <tr>\n",
       "      <th>75%</th>\n",
       "      <td>2020.0</td>\n",
       "      <td>6.263803e+09</td>\n",
       "      <td>8.000000</td>\n",
       "      <td>404.000000</td>\n",
       "      <td>176.000000</td>\n",
       "    </tr>\n",
       "    <tr>\n",
       "      <th>max</th>\n",
       "      <td>2020.0</td>\n",
       "      <td>7.253401e+09</td>\n",
       "      <td>2121.000000</td>\n",
       "      <td>2569.000000</td>\n",
       "      <td>1915.000000</td>\n",
       "    </tr>\n",
       "  </tbody>\n",
       "</table>\n",
       "</div>"
      ],
      "text/plain": [
       "           Year      Precinct  Candidate Votes      Yes Votes       No Votes\n",
       "count  211946.0  2.119460e+05    211946.000000  211946.000000  211946.000000\n",
       "mean     2020.0  4.080088e+09        94.949034     194.322861     108.247492\n",
       "std         0.0  2.018841e+09       228.912782     315.032716     194.516744\n",
       "min      2020.0  1.160116e+09         0.000000       0.000000       0.000000\n",
       "25%      2020.0  2.171207e+09         0.000000       0.000000       0.000000\n",
       "50%      2020.0  4.044418e+09         0.000000       0.000000       0.000000\n",
       "75%      2020.0  6.263803e+09         8.000000     404.000000     176.000000\n",
       "max      2020.0  7.253401e+09      2121.000000    2569.000000    1915.000000"
      ]
     },
     "execution_count": 6,
     "metadata": {},
     "output_type": "execute_result"
    }
   ],
   "source": [
    "vote.describe()"
   ]
  },
  {
   "cell_type": "code",
   "execution_count": null,
   "metadata": {
    "colab": {
     "base_uri": "https://localhost:8080/"
    },
    "executionInfo": {
     "elapsed": 156,
     "status": "ok",
     "timestamp": 1625923267017,
     "user": {
      "displayName": "Faiz Ikramulla",
      "photoUrl": "https://lh3.googleusercontent.com/a-/AOh14Gh7wC-sN-_JqiH2qfxfrvGhNIJjafGKLk1NOkM9RA=s64",
      "userId": "06226127205799252353"
     },
     "user_tz": 300
    },
    "id": "Yik0tieY1loj",
    "outputId": "b87a58a2-f68a-4fa7-9348-3088d96acea7"
   },
   "outputs": [
    {
     "data": {
      "text/plain": [
       "State                     object\n",
       "Year                       int64\n",
       "Election Type             object\n",
       "County                    object\n",
       "Precinct                   int64\n",
       "Office/Issue/Judgeship    object\n",
       "Candidate                 object\n",
       "Party                     object\n",
       "Candidate Votes            int64\n",
       "Yes Votes                  int64\n",
       "No Votes                   int64\n",
       "dtype: object"
      ]
     },
     "execution_count": 5,
     "metadata": {
      "tags": []
     },
     "output_type": "execute_result"
    }
   ],
   "source": [
    "vote.dtypes"
   ]
  },
  {
   "cell_type": "code",
   "execution_count": null,
   "metadata": {
    "colab": {
     "base_uri": "https://localhost:8080/"
    },
    "executionInfo": {
     "elapsed": 161,
     "status": "ok",
     "timestamp": 1625921189117,
     "user": {
      "displayName": "Faiz Ikramulla",
      "photoUrl": "https://lh3.googleusercontent.com/a-/AOh14Gh7wC-sN-_JqiH2qfxfrvGhNIJjafGKLk1NOkM9RA=s64",
      "userId": "06226127205799252353"
     },
     "user_tz": 300
    },
    "id": "tJ4ezkfp16Wz",
    "outputId": "5ce494a9-26c9-46d9-9ceb-194bb77aa893"
   },
   "outputs": [
    {
     "name": "stdout",
     "output_type": "stream",
     "text": [
      "State                        1\n",
      "Year                         1\n",
      "Election Type                1\n",
      "County                      64\n",
      "Precinct                  3205\n",
      "Office/Issue/Judgeship     182\n",
      "Candidate                  414\n",
      "Party                       19\n",
      "Candidate Votes           1560\n",
      "Yes Votes                 1646\n",
      "No Votes                  1313\n",
      "dtype: int64\n"
     ]
    }
   ],
   "source": [
    "print(vote.nunique())\n",
    "\n",
    "#19 parties!!!"
   ]
  },
  {
   "cell_type": "code",
   "execution_count": null,
   "metadata": {
    "colab": {
     "base_uri": "https://localhost:8080/"
    },
    "executionInfo": {
     "elapsed": 233,
     "status": "ok",
     "timestamp": 1625921001770,
     "user": {
      "displayName": "Faiz Ikramulla",
      "photoUrl": "https://lh3.googleusercontent.com/a-/AOh14Gh7wC-sN-_JqiH2qfxfrvGhNIJjafGKLk1NOkM9RA=s64",
      "userId": "06226127205799252353"
     },
     "user_tz": 300
    },
    "id": "QZOApH6-3vWC",
    "outputId": "c204435d-5e82-4c69-aac3-297d5626affa"
   },
   "outputs": [
    {
     "name": "stdout",
     "output_type": "stream",
     "text": [
      "           State  Year Election Type  ... Candidate Votes  Yes Votes No Votes\n",
      "0       Colorado  2020             G  ...              72          0        0\n",
      "1       Colorado  2020             G  ...             279          0        0\n",
      "2       Colorado  2020             G  ...               0          0        0\n",
      "3       Colorado  2020             G  ...               0          0        0\n",
      "4       Colorado  2020             G  ...               0          0        0\n",
      "...          ...   ...           ...  ...             ...        ...      ...\n",
      "211941  Colorado  2020             G  ...               0         62      338\n",
      "211942  Colorado  2020             G  ...               0        272      123\n",
      "211943  Colorado  2020             G  ...               0        302       96\n",
      "211944  Colorado  2020             G  ...               0        244      138\n",
      "211945  Colorado  2020             G  ...               0        117      280\n",
      "\n",
      "[211946 rows x 11 columns]\n"
     ]
    }
   ],
   "source": [
    "print(vote)"
   ]
  },
  {
   "cell_type": "code",
   "execution_count": 7,
   "metadata": {
    "colab": {
     "base_uri": "https://localhost:8080/"
    },
    "executionInfo": {
     "elapsed": 199,
     "status": "ok",
     "timestamp": 1625878194140,
     "user": {
      "displayName": "Faiz Ikramulla",
      "photoUrl": "https://lh3.googleusercontent.com/a-/AOh14Gh7wC-sN-_JqiH2qfxfrvGhNIJjafGKLk1NOkM9RA=s64",
      "userId": "06226127205799252353"
     },
     "user_tz": 300
    },
    "id": "aeNf29OP0ZIu",
    "outputId": "7fc7482f-9de5-488c-f9ad-68ea4813b2d9"
   },
   "outputs": [
    {
     "name": "stdout",
     "output_type": "stream",
     "text": [
      "        State   Year  Election Type  County  Precinct  Office/Issue/Judgeship  \\\n",
      "0       False  False          False   False     False                   False   \n",
      "1       False  False          False   False     False                   False   \n",
      "2       False  False          False   False     False                   False   \n",
      "3       False  False          False   False     False                   False   \n",
      "4       False  False          False   False     False                   False   \n",
      "...       ...    ...            ...     ...       ...                     ...   \n",
      "211941  False  False          False   False     False                   False   \n",
      "211942  False  False          False   False     False                   False   \n",
      "211943  False  False          False   False     False                   False   \n",
      "211944  False  False          False   False     False                   False   \n",
      "211945  False  False          False   False     False                   False   \n",
      "\n",
      "        Candidate  Party  Candidate Votes  Yes Votes  No Votes  \n",
      "0           False  False            False      False     False  \n",
      "1           False  False            False      False     False  \n",
      "2           False  False            False      False     False  \n",
      "3           False  False            False      False     False  \n",
      "4           False  False            False      False     False  \n",
      "...           ...    ...              ...        ...       ...  \n",
      "211941       True   True            False      False     False  \n",
      "211942       True   True            False      False     False  \n",
      "211943       True   True            False      False     False  \n",
      "211944       True   True            False      False     False  \n",
      "211945       True   True            False      False     False  \n",
      "\n",
      "[211946 rows x 11 columns]\n"
     ]
    }
   ],
   "source": [
    "#checking for missing values\n",
    "print(vote.isnull())"
   ]
  },
  {
   "cell_type": "code",
   "execution_count": 8,
   "metadata": {
    "colab": {
     "base_uri": "https://localhost:8080/"
    },
    "executionInfo": {
     "elapsed": 147,
     "status": "ok",
     "timestamp": 1625922291052,
     "user": {
      "displayName": "Faiz Ikramulla",
      "photoUrl": "https://lh3.googleusercontent.com/a-/AOh14Gh7wC-sN-_JqiH2qfxfrvGhNIJjafGKLk1NOkM9RA=s64",
      "userId": "06226127205799252353"
     },
     "user_tz": 300
    },
    "id": "mrmxCB_b5eRd",
    "outputId": "05d57a4b-1f78-4f0f-d9e4-899a9d896611"
   },
   "outputs": [
    {
     "data": {
      "text/plain": [
       "107456"
      ]
     },
     "execution_count": 8,
     "metadata": {},
     "output_type": "execute_result"
    }
   ],
   "source": [
    "vote.isna().sum().sum()"
   ]
  },
  {
   "cell_type": "code",
   "execution_count": null,
   "metadata": {
    "colab": {
     "base_uri": "https://localhost:8080/"
    },
    "executionInfo": {
     "elapsed": 217,
     "status": "ok",
     "timestamp": 1625878320300,
     "user": {
      "displayName": "Faiz Ikramulla",
      "photoUrl": "https://lh3.googleusercontent.com/a-/AOh14Gh7wC-sN-_JqiH2qfxfrvGhNIJjafGKLk1NOkM9RA=s64",
      "userId": "06226127205799252353"
     },
     "user_tz": 300
    },
    "id": "hkLYNhB_5iRP",
    "outputId": "1a99d78b-e59d-4594-e484-88fb733ba466"
   },
   "outputs": [
    {
     "data": {
      "text/plain": [
       "0"
      ]
     },
     "execution_count": 12,
     "metadata": {
      "tags": []
     },
     "output_type": "execute_result"
    }
   ],
   "source": [
    "turnout.isna().sum().sum()"
   ]
  },
  {
   "cell_type": "code",
   "execution_count": null,
   "metadata": {
    "colab": {
     "base_uri": "https://localhost:8080/"
    },
    "executionInfo": {
     "elapsed": 399,
     "status": "ok",
     "timestamp": 1625878328584,
     "user": {
      "displayName": "Faiz Ikramulla",
      "photoUrl": "https://lh3.googleusercontent.com/a-/AOh14Gh7wC-sN-_JqiH2qfxfrvGhNIJjafGKLk1NOkM9RA=s64",
      "userId": "06226127205799252353"
     },
     "user_tz": 300
    },
    "id": "EzR8RlFd5lvz",
    "outputId": "c5a21c0a-9d72-4d38-f1f9-46ec2f5d8a5c"
   },
   "outputs": [
    {
     "data": {
      "text/plain": [
       "38"
      ]
     },
     "execution_count": 13,
     "metadata": {
      "tags": []
     },
     "output_type": "execute_result"
    }
   ],
   "source": [
    "primary.isna().sum().sum()"
   ]
  },
  {
   "cell_type": "code",
   "execution_count": null,
   "metadata": {
    "colab": {
     "base_uri": "https://localhost:8080/"
    },
    "executionInfo": {
     "elapsed": 226,
     "status": "ok",
     "timestamp": 1625878340924,
     "user": {
      "displayName": "Faiz Ikramulla",
      "photoUrl": "https://lh3.googleusercontent.com/a-/AOh14Gh7wC-sN-_JqiH2qfxfrvGhNIJjafGKLk1NOkM9RA=s64",
      "userId": "06226127205799252353"
     },
     "user_tz": 300
    },
    "id": "M3BfoA935n1W",
    "outputId": "eea50c17-cb20-4922-d5ad-67135e354601"
   },
   "outputs": [
    {
     "data": {
      "text/plain": [
       "5811"
      ]
     },
     "execution_count": 14,
     "metadata": {
      "tags": []
     },
     "output_type": "execute_result"
    }
   ],
   "source": [
    "abstract.isna().sum().sum()"
   ]
  },
  {
   "cell_type": "code",
   "execution_count": null,
   "metadata": {
    "colab": {
     "base_uri": "https://localhost:8080/"
    },
    "executionInfo": {
     "elapsed": 688,
     "status": "ok",
     "timestamp": 1625923282689,
     "user": {
      "displayName": "Faiz Ikramulla",
      "photoUrl": "https://lh3.googleusercontent.com/a-/AOh14Gh7wC-sN-_JqiH2qfxfrvGhNIJjafGKLk1NOkM9RA=s64",
      "userId": "06226127205799252353"
     },
     "user_tz": 300
    },
    "id": "TyvqtkXC5F25",
    "outputId": "ae3aa5ad-112f-4cb5-f549-1170a84e8acd"
   },
   "outputs": [
    {
     "data": {
      "text/plain": [
       "<matplotlib.axes._subplots.AxesSubplot at 0x7f4281f4d9d0>"
      ]
     },
     "execution_count": 6,
     "metadata": {
      "tags": []
     },
     "output_type": "execute_result"
    }
   ],
   "source": [
    "msno.matrix(vote)"
   ]
  },
  {
   "cell_type": "code",
   "execution_count": null,
   "metadata": {
    "id": "CVyt_ZSi6mfg"
   },
   "outputs": [],
   "source": [
    "#msno.heatmap(vote)"
   ]
  },
  {
   "cell_type": "code",
   "execution_count": 9,
   "metadata": {
    "colab": {
     "base_uri": "https://localhost:8080/"
    },
    "executionInfo": {
     "elapsed": 581,
     "status": "ok",
     "timestamp": 1625922300147,
     "user": {
      "displayName": "Faiz Ikramulla",
      "photoUrl": "https://lh3.googleusercontent.com/a-/AOh14Gh7wC-sN-_JqiH2qfxfrvGhNIJjafGKLk1NOkM9RA=s64",
      "userId": "06226127205799252353"
     },
     "user_tz": 300
    },
    "id": "M_iHORRV6rhG",
    "outputId": "c0cc11fe-5a24-439e-bcab-094ed9fa009f"
   },
   "outputs": [
    {
     "ename": "NameError",
     "evalue": "name 'msno' is not defined",
     "output_type": "error",
     "traceback": [
      "\u001b[1;31m---------------------------------------------------------------------------\u001b[0m",
      "\u001b[1;31mNameError\u001b[0m                                 Traceback (most recent call last)",
      "\u001b[1;32m<ipython-input-9-8de923600db2>\u001b[0m in \u001b[0;36m<module>\u001b[1;34m\u001b[0m\n\u001b[1;32m----> 1\u001b[1;33m \u001b[0mmsno\u001b[0m\u001b[1;33m.\u001b[0m\u001b[0mbar\u001b[0m\u001b[1;33m(\u001b[0m\u001b[0mvote\u001b[0m\u001b[1;33m)\u001b[0m\u001b[1;33m\u001b[0m\u001b[1;33m\u001b[0m\u001b[0m\n\u001b[0m",
      "\u001b[1;31mNameError\u001b[0m: name 'msno' is not defined"
     ]
    }
   ],
   "source": [
    "msno.bar(vote)"
   ]
  },
  {
   "cell_type": "code",
   "execution_count": 10,
   "metadata": {
    "id": "ogGYg2p5Y_f-"
   },
   "outputs": [],
   "source": [
    "#precinct selection, example only\n",
    "is_245 =  vote['Precinct']== 4253001245\n",
    "p245 = vote[is_245]"
   ]
  },
  {
   "cell_type": "code",
   "execution_count": 11,
   "metadata": {
    "id": "Ox33Kx31Z-BW"
   },
   "outputs": [],
   "source": [
    "#party selectin\n",
    "is_green = vote[\"Party\"] == 'Green Party'\n",
    "green = vote[is_green]\n",
    "\n",
    "is_dem = vote[\"Party\"] == 'Democratic Party'\n",
    "dem = vote[is_dem]\n",
    "\n",
    "is_repub = vote[\"Party\"] == 'Republical Party'\n",
    "repub = vote[is_repub]\n",
    "\n",
    "#but there must be more than 3 parties (could be 19)!!! (reiew these a bit must to make sure they work, then bar graph at bottom)"
   ]
  },
  {
   "cell_type": "code",
   "execution_count": null,
   "metadata": {
    "colab": {
     "base_uri": "https://localhost:8080/",
     "height": 363
    },
    "executionInfo": {
     "elapsed": 159,
     "status": "ok",
     "timestamp": 1625922306814,
     "user": {
      "displayName": "Faiz Ikramulla",
      "photoUrl": "https://lh3.googleusercontent.com/a-/AOh14Gh7wC-sN-_JqiH2qfxfrvGhNIJjafGKLk1NOkM9RA=s64",
      "userId": "06226127205799252353"
     },
     "user_tz": 300
    },
    "id": "-TB9mDb6aNv1",
    "outputId": "afe1dccf-89cb-4be2-e0ef-b3c2558c7320"
   },
   "outputs": [
    {
     "data": {
      "text/html": [
       "<div>\n",
       "<style scoped>\n",
       "    .dataframe tbody tr th:only-of-type {\n",
       "        vertical-align: middle;\n",
       "    }\n",
       "\n",
       "    .dataframe tbody tr th {\n",
       "        vertical-align: top;\n",
       "    }\n",
       "\n",
       "    .dataframe thead th {\n",
       "        text-align: right;\n",
       "    }\n",
       "</style>\n",
       "<table border=\"1\" class=\"dataframe\">\n",
       "  <thead>\n",
       "    <tr style=\"text-align: right;\">\n",
       "      <th></th>\n",
       "      <th>State</th>\n",
       "      <th>Year</th>\n",
       "      <th>Election Type</th>\n",
       "      <th>County</th>\n",
       "      <th>Precinct</th>\n",
       "      <th>Office/Issue/Judgeship</th>\n",
       "      <th>Candidate</th>\n",
       "      <th>Party</th>\n",
       "      <th>Candidate Votes</th>\n",
       "      <th>Yes Votes</th>\n",
       "      <th>No Votes</th>\n",
       "    </tr>\n",
       "  </thead>\n",
       "  <tbody>\n",
       "    <tr>\n",
       "      <th>4</th>\n",
       "      <td>Colorado</td>\n",
       "      <td>2020</td>\n",
       "      <td>G</td>\n",
       "      <td>Adams</td>\n",
       "      <td>4253001245</td>\n",
       "      <td>President/Vice President</td>\n",
       "      <td>Howie Hawkins / Angela Nicole Walker</td>\n",
       "      <td>Green Party</td>\n",
       "      <td>0</td>\n",
       "      <td>0</td>\n",
       "      <td>0</td>\n",
       "    </tr>\n",
       "    <tr>\n",
       "      <th>30</th>\n",
       "      <td>Colorado</td>\n",
       "      <td>2020</td>\n",
       "      <td>G</td>\n",
       "      <td>Adams</td>\n",
       "      <td>4253001245</td>\n",
       "      <td>United States Senator</td>\n",
       "      <td>Bruce Lohmiller</td>\n",
       "      <td>Green Party</td>\n",
       "      <td>0</td>\n",
       "      <td>0</td>\n",
       "      <td>0</td>\n",
       "    </tr>\n",
       "    <tr>\n",
       "      <th>70</th>\n",
       "      <td>Colorado</td>\n",
       "      <td>2020</td>\n",
       "      <td>G</td>\n",
       "      <td>Adams</td>\n",
       "      <td>4255601241</td>\n",
       "      <td>President/Vice President</td>\n",
       "      <td>Howie Hawkins / Angela Nicole Walker</td>\n",
       "      <td>Green Party</td>\n",
       "      <td>0</td>\n",
       "      <td>0</td>\n",
       "      <td>0</td>\n",
       "    </tr>\n",
       "    <tr>\n",
       "      <th>96</th>\n",
       "      <td>Colorado</td>\n",
       "      <td>2020</td>\n",
       "      <td>G</td>\n",
       "      <td>Adams</td>\n",
       "      <td>4255601241</td>\n",
       "      <td>United States Senator</td>\n",
       "      <td>Bruce Lohmiller</td>\n",
       "      <td>Green Party</td>\n",
       "      <td>0</td>\n",
       "      <td>0</td>\n",
       "      <td>0</td>\n",
       "    </tr>\n",
       "    <tr>\n",
       "      <th>137</th>\n",
       "      <td>Colorado</td>\n",
       "      <td>2020</td>\n",
       "      <td>G</td>\n",
       "      <td>Adams</td>\n",
       "      <td>4255601246</td>\n",
       "      <td>President/Vice President</td>\n",
       "      <td>Howie Hawkins / Angela Nicole Walker</td>\n",
       "      <td>Green Party</td>\n",
       "      <td>6</td>\n",
       "      <td>0</td>\n",
       "      <td>0</td>\n",
       "    </tr>\n",
       "  </tbody>\n",
       "</table>\n",
       "</div>"
      ],
      "text/plain": [
       "        State  Year Election Type  ... Candidate Votes  Yes Votes No Votes\n",
       "4    Colorado  2020             G  ...               0          0        0\n",
       "30   Colorado  2020             G  ...               0          0        0\n",
       "70   Colorado  2020             G  ...               0          0        0\n",
       "96   Colorado  2020             G  ...               0          0        0\n",
       "137  Colorado  2020             G  ...               6          0        0\n",
       "\n",
       "[5 rows x 11 columns]"
      ]
     },
     "execution_count": 11,
     "metadata": {
      "tags": []
     },
     "output_type": "execute_result"
    }
   ],
   "source": [
    "green.head()"
   ]
  },
  {
   "cell_type": "code",
   "execution_count": null,
   "metadata": {
    "colab": {
     "base_uri": "https://localhost:8080/",
     "height": 380
    },
    "executionInfo": {
     "elapsed": 214,
     "status": "ok",
     "timestamp": 1625922308964,
     "user": {
      "displayName": "Faiz Ikramulla",
      "photoUrl": "https://lh3.googleusercontent.com/a-/AOh14Gh7wC-sN-_JqiH2qfxfrvGhNIJjafGKLk1NOkM9RA=s64",
      "userId": "06226127205799252353"
     },
     "user_tz": 300
    },
    "id": "uncFMtzdaTSH",
    "outputId": "da574523-b61d-46f7-dc7d-5dc0cf1541ee"
   },
   "outputs": [
    {
     "data": {
      "text/html": [
       "<div>\n",
       "<style scoped>\n",
       "    .dataframe tbody tr th:only-of-type {\n",
       "        vertical-align: middle;\n",
       "    }\n",
       "\n",
       "    .dataframe tbody tr th {\n",
       "        vertical-align: top;\n",
       "    }\n",
       "\n",
       "    .dataframe thead th {\n",
       "        text-align: right;\n",
       "    }\n",
       "</style>\n",
       "<table border=\"1\" class=\"dataframe\">\n",
       "  <thead>\n",
       "    <tr style=\"text-align: right;\">\n",
       "      <th></th>\n",
       "      <th>State</th>\n",
       "      <th>Year</th>\n",
       "      <th>Election Type</th>\n",
       "      <th>County</th>\n",
       "      <th>Precinct</th>\n",
       "      <th>Office/Issue/Judgeship</th>\n",
       "      <th>Candidate</th>\n",
       "      <th>Party</th>\n",
       "      <th>Candidate Votes</th>\n",
       "      <th>Yes Votes</th>\n",
       "      <th>No Votes</th>\n",
       "    </tr>\n",
       "  </thead>\n",
       "  <tbody>\n",
       "    <tr>\n",
       "      <th>0</th>\n",
       "      <td>Colorado</td>\n",
       "      <td>2020</td>\n",
       "      <td>G</td>\n",
       "      <td>Adams</td>\n",
       "      <td>4253001245</td>\n",
       "      <td>President/Vice President</td>\n",
       "      <td>Joseph R. Biden / Kamala D. Harris</td>\n",
       "      <td>Democratic Party</td>\n",
       "      <td>72</td>\n",
       "      <td>0</td>\n",
       "      <td>0</td>\n",
       "    </tr>\n",
       "    <tr>\n",
       "      <th>1</th>\n",
       "      <td>Colorado</td>\n",
       "      <td>2020</td>\n",
       "      <td>G</td>\n",
       "      <td>Adams</td>\n",
       "      <td>4253001245</td>\n",
       "      <td>President/Vice President</td>\n",
       "      <td>Donald J. Trump / Michael R. Pence</td>\n",
       "      <td>Republican Party</td>\n",
       "      <td>279</td>\n",
       "      <td>0</td>\n",
       "      <td>0</td>\n",
       "    </tr>\n",
       "    <tr>\n",
       "      <th>2</th>\n",
       "      <td>Colorado</td>\n",
       "      <td>2020</td>\n",
       "      <td>G</td>\n",
       "      <td>Adams</td>\n",
       "      <td>4253001245</td>\n",
       "      <td>President/Vice President</td>\n",
       "      <td>Don Blankenship / William Mohr</td>\n",
       "      <td>American Constitution Party</td>\n",
       "      <td>0</td>\n",
       "      <td>0</td>\n",
       "      <td>0</td>\n",
       "    </tr>\n",
       "    <tr>\n",
       "      <th>3</th>\n",
       "      <td>Colorado</td>\n",
       "      <td>2020</td>\n",
       "      <td>G</td>\n",
       "      <td>Adams</td>\n",
       "      <td>4253001245</td>\n",
       "      <td>President/Vice President</td>\n",
       "      <td>Bill Hammons / Eric Bodenstab</td>\n",
       "      <td>Unity Party of Colorado</td>\n",
       "      <td>0</td>\n",
       "      <td>0</td>\n",
       "      <td>0</td>\n",
       "    </tr>\n",
       "    <tr>\n",
       "      <th>4</th>\n",
       "      <td>Colorado</td>\n",
       "      <td>2020</td>\n",
       "      <td>G</td>\n",
       "      <td>Adams</td>\n",
       "      <td>4253001245</td>\n",
       "      <td>President/Vice President</td>\n",
       "      <td>Howie Hawkins / Angela Nicole Walker</td>\n",
       "      <td>Green Party</td>\n",
       "      <td>0</td>\n",
       "      <td>0</td>\n",
       "      <td>0</td>\n",
       "    </tr>\n",
       "  </tbody>\n",
       "</table>\n",
       "</div>"
      ],
      "text/plain": [
       "      State  Year Election Type  ... Candidate Votes  Yes Votes No Votes\n",
       "0  Colorado  2020             G  ...              72          0        0\n",
       "1  Colorado  2020             G  ...             279          0        0\n",
       "2  Colorado  2020             G  ...               0          0        0\n",
       "3  Colorado  2020             G  ...               0          0        0\n",
       "4  Colorado  2020             G  ...               0          0        0\n",
       "\n",
       "[5 rows x 11 columns]"
      ]
     },
     "execution_count": 12,
     "metadata": {
      "tags": []
     },
     "output_type": "execute_result"
    }
   ],
   "source": [
    "p245.head()"
   ]
  },
  {
   "cell_type": "code",
   "execution_count": 12,
   "metadata": {
    "colab": {
     "base_uri": "https://localhost:8080/"
    },
    "executionInfo": {
     "elapsed": 157,
     "status": "ok",
     "timestamp": 1625922310958,
     "user": {
      "displayName": "Faiz Ikramulla",
      "photoUrl": "https://lh3.googleusercontent.com/a-/AOh14Gh7wC-sN-_JqiH2qfxfrvGhNIJjafGKLk1NOkM9RA=s64",
      "userId": "06226127205799252353"
     },
     "user_tz": 300
    },
    "id": "N-lroNjiadM4",
    "outputId": "c9fa1f7a-ad8e-4455-a1c0-f9bca3c9b7c6"
   },
   "outputs": [
    {
     "name": "stdout",
     "output_type": "stream",
     "text": [
      "State                        1\n",
      "Year                         1\n",
      "Election Type                1\n",
      "County                      64\n",
      "Precinct                  3205\n",
      "Office/Issue/Judgeship       3\n",
      "Candidate                    3\n",
      "Party                        1\n",
      "Candidate Votes             39\n",
      "Yes Votes                    1\n",
      "No Votes                     1\n",
      "dtype: int64\n"
     ]
    }
   ],
   "source": [
    "print(green.nunique())"
   ]
  },
  {
   "cell_type": "code",
   "execution_count": 13,
   "metadata": {
    "colab": {
     "base_uri": "https://localhost:8080/"
    },
    "executionInfo": {
     "elapsed": 145,
     "status": "ok",
     "timestamp": 1625922312817,
     "user": {
      "displayName": "Faiz Ikramulla",
      "photoUrl": "https://lh3.googleusercontent.com/a-/AOh14Gh7wC-sN-_JqiH2qfxfrvGhNIJjafGKLk1NOkM9RA=s64",
      "userId": "06226127205799252353"
     },
     "user_tz": 300
    },
    "id": "7EgisuyBay4P",
    "outputId": "1a5277bb-d0f8-4773-8a67-0426f64ed4d8"
   },
   "outputs": [
    {
     "name": "stdout",
     "output_type": "stream",
     "text": [
      "           State  Year Election Type County    Precinct  \\\n",
      "4       Colorado  2020             G  Adams  4253001245   \n",
      "30      Colorado  2020             G  Adams  4253001245   \n",
      "70      Colorado  2020             G  Adams  4255601241   \n",
      "96      Colorado  2020             G  Adams  4255601241   \n",
      "137     Colorado  2020             G  Adams  4255601246   \n",
      "...          ...   ...           ...    ...         ...   \n",
      "211811  Colorado  2020             G   Yuma  4016563012   \n",
      "211840  Colorado  2020             G   Yuma  4016563013   \n",
      "211866  Colorado  2020             G   Yuma  4016563013   \n",
      "211895  Colorado  2020             G   Yuma  4016563014   \n",
      "211921  Colorado  2020             G   Yuma  4016563014   \n",
      "\n",
      "          Office/Issue/Judgeship                             Candidate  \\\n",
      "4       President/Vice President  Howie Hawkins / Angela Nicole Walker   \n",
      "30         United States Senator                       Bruce Lohmiller   \n",
      "70      President/Vice President  Howie Hawkins / Angela Nicole Walker   \n",
      "96         United States Senator                       Bruce Lohmiller   \n",
      "137     President/Vice President  Howie Hawkins / Angela Nicole Walker   \n",
      "...                          ...                                   ...   \n",
      "211811     United States Senator                       Bruce Lohmiller   \n",
      "211840  President/Vice President  Howie Hawkins / Angela Nicole Walker   \n",
      "211866     United States Senator                       Bruce Lohmiller   \n",
      "211895  President/Vice President  Howie Hawkins / Angela Nicole Walker   \n",
      "211921     United States Senator                       Bruce Lohmiller   \n",
      "\n",
      "              Party  Candidate Votes  Yes Votes  No Votes  \n",
      "4       Green Party                0          0         0  \n",
      "30      Green Party                0          0         0  \n",
      "70      Green Party                0          0         0  \n",
      "96      Green Party                0          0         0  \n",
      "137     Green Party                6          0         0  \n",
      "...             ...              ...        ...       ...  \n",
      "211811  Green Party                0          0         0  \n",
      "211840  Green Party                0          0         0  \n",
      "211866  Green Party                0          0         0  \n",
      "211895  Green Party                0          0         0  \n",
      "211921  Green Party                0          0         0  \n",
      "\n",
      "[6438 rows x 11 columns]\n"
     ]
    }
   ],
   "source": [
    "#print(green.head())\n",
    "print(green)\n",
    "#6438 rows (green party) out of 211000)"
   ]
  },
  {
   "cell_type": "code",
   "execution_count": null,
   "metadata": {
    "colab": {
     "base_uri": "https://localhost:8080/",
     "height": 300
    },
    "executionInfo": {
     "elapsed": 171,
     "status": "ok",
     "timestamp": 1625922314533,
     "user": {
      "displayName": "Faiz Ikramulla",
      "photoUrl": "https://lh3.googleusercontent.com/a-/AOh14Gh7wC-sN-_JqiH2qfxfrvGhNIJjafGKLk1NOkM9RA=s64",
      "userId": "06226127205799252353"
     },
     "user_tz": 300
    },
    "id": "oomWb1N4alvC",
    "outputId": "8c74f5c5-ee81-48e5-d301-20348494a0ed"
   },
   "outputs": [
    {
     "data": {
      "text/html": [
       "<div>\n",
       "<style scoped>\n",
       "    .dataframe tbody tr th:only-of-type {\n",
       "        vertical-align: middle;\n",
       "    }\n",
       "\n",
       "    .dataframe tbody tr th {\n",
       "        vertical-align: top;\n",
       "    }\n",
       "\n",
       "    .dataframe thead th {\n",
       "        text-align: right;\n",
       "    }\n",
       "</style>\n",
       "<table border=\"1\" class=\"dataframe\">\n",
       "  <thead>\n",
       "    <tr style=\"text-align: right;\">\n",
       "      <th></th>\n",
       "      <th>Year</th>\n",
       "      <th>Precinct</th>\n",
       "      <th>Candidate Votes</th>\n",
       "      <th>Yes Votes</th>\n",
       "      <th>No Votes</th>\n",
       "    </tr>\n",
       "  </thead>\n",
       "  <tbody>\n",
       "    <tr>\n",
       "      <th>count</th>\n",
       "      <td>66.0</td>\n",
       "      <td>6.600000e+01</td>\n",
       "      <td>66.000000</td>\n",
       "      <td>66.000000</td>\n",
       "      <td>66.000000</td>\n",
       "    </tr>\n",
       "    <tr>\n",
       "      <th>mean</th>\n",
       "      <td>2020.0</td>\n",
       "      <td>4.253001e+09</td>\n",
       "      <td>31.469697</td>\n",
       "      <td>62.893939</td>\n",
       "      <td>55.181818</td>\n",
       "    </tr>\n",
       "    <tr>\n",
       "      <th>std</th>\n",
       "      <td>0.0</td>\n",
       "      <td>0.000000e+00</td>\n",
       "      <td>80.769038</td>\n",
       "      <td>88.565513</td>\n",
       "      <td>79.375235</td>\n",
       "    </tr>\n",
       "    <tr>\n",
       "      <th>min</th>\n",
       "      <td>2020.0</td>\n",
       "      <td>4.253001e+09</td>\n",
       "      <td>0.000000</td>\n",
       "      <td>0.000000</td>\n",
       "      <td>0.000000</td>\n",
       "    </tr>\n",
       "    <tr>\n",
       "      <th>25%</th>\n",
       "      <td>2020.0</td>\n",
       "      <td>4.253001e+09</td>\n",
       "      <td>0.000000</td>\n",
       "      <td>0.000000</td>\n",
       "      <td>0.000000</td>\n",
       "    </tr>\n",
       "    <tr>\n",
       "      <th>50%</th>\n",
       "      <td>2020.0</td>\n",
       "      <td>4.253001e+09</td>\n",
       "      <td>0.000000</td>\n",
       "      <td>0.000000</td>\n",
       "      <td>0.000000</td>\n",
       "    </tr>\n",
       "    <tr>\n",
       "      <th>75%</th>\n",
       "      <td>2020.0</td>\n",
       "      <td>4.253001e+09</td>\n",
       "      <td>1.750000</td>\n",
       "      <td>157.750000</td>\n",
       "      <td>129.750000</td>\n",
       "    </tr>\n",
       "    <tr>\n",
       "      <th>max</th>\n",
       "      <td>2020.0</td>\n",
       "      <td>4.253001e+09</td>\n",
       "      <td>284.000000</td>\n",
       "      <td>292.000000</td>\n",
       "      <td>267.000000</td>\n",
       "    </tr>\n",
       "  </tbody>\n",
       "</table>\n",
       "</div>"
      ],
      "text/plain": [
       "         Year      Precinct  Candidate Votes   Yes Votes    No Votes\n",
       "count    66.0  6.600000e+01        66.000000   66.000000   66.000000\n",
       "mean   2020.0  4.253001e+09        31.469697   62.893939   55.181818\n",
       "std       0.0  0.000000e+00        80.769038   88.565513   79.375235\n",
       "min    2020.0  4.253001e+09         0.000000    0.000000    0.000000\n",
       "25%    2020.0  4.253001e+09         0.000000    0.000000    0.000000\n",
       "50%    2020.0  4.253001e+09         0.000000    0.000000    0.000000\n",
       "75%    2020.0  4.253001e+09         1.750000  157.750000  129.750000\n",
       "max    2020.0  4.253001e+09       284.000000  292.000000  267.000000"
      ]
     },
     "execution_count": 15,
     "metadata": {
      "tags": []
     },
     "output_type": "execute_result"
    }
   ],
   "source": [
    "p245.describe()"
   ]
  },
  {
   "cell_type": "code",
   "execution_count": null,
   "metadata": {
    "colab": {
     "base_uri": "https://localhost:8080/"
    },
    "executionInfo": {
     "elapsed": 144,
     "status": "ok",
     "timestamp": 1625922316144,
     "user": {
      "displayName": "Faiz Ikramulla",
      "photoUrl": "https://lh3.googleusercontent.com/a-/AOh14Gh7wC-sN-_JqiH2qfxfrvGhNIJjafGKLk1NOkM9RA=s64",
      "userId": "06226127205799252353"
     },
     "user_tz": 300
    },
    "id": "ByeP1YRVbqQm",
    "outputId": "b4b8137c-07df-4b41-e6be-607a380a63f1"
   },
   "outputs": [
    {
     "name": "stdout",
     "output_type": "stream",
     "text": [
      "State                      1\n",
      "Year                       1\n",
      "Election Type              1\n",
      "County                     1\n",
      "Precinct                   1\n",
      "Office/Issue/Judgeship    21\n",
      "Candidate                 55\n",
      "Party                     19\n",
      "Candidate Votes           18\n",
      "Yes Votes                 23\n",
      "No Votes                  22\n",
      "dtype: int64\n"
     ]
    }
   ],
   "source": [
    "print(p245.nunique())"
   ]
  },
  {
   "cell_type": "markdown",
   "metadata": {
    "id": "Byx42ngHcx6o"
   },
   "source": [
    "## Data Visualtions of Party spread"
   ]
  },
  {
   "cell_type": "code",
   "execution_count": null,
   "metadata": {
    "id": "u68hGqCGc2V5"
   },
   "outputs": [],
   "source": [
    "#vote.hist(column='Party')"
   ]
  },
  {
   "cell_type": "code",
   "execution_count": 14,
   "metadata": {
    "colab": {
     "base_uri": "https://localhost:8080/"
    },
    "executionInfo": {
     "elapsed": 451,
     "status": "ok",
     "timestamp": 1625922323844,
     "user": {
      "displayName": "Faiz Ikramulla",
      "photoUrl": "https://lh3.googleusercontent.com/a-/AOh14Gh7wC-sN-_JqiH2qfxfrvGhNIJjafGKLk1NOkM9RA=s64",
      "userId": "06226127205799252353"
     },
     "user_tz": 300
    },
    "id": "qA2ShvnTehJv",
    "outputId": "4775b528-08c8-4c9f-ec15-9f4c8ea07649"
   },
   "outputs": [
    {
     "data": {
      "text/plain": [
       "<matplotlib.axes._subplots.AxesSubplot at 0x210a6e020a0>"
      ]
     },
     "execution_count": 14,
     "metadata": {},
     "output_type": "execute_result"
    },
    {
     "data": {
      "image/png": "[encoded data removed]",
      "text/plain": [
       "<Figure size 432x288 with 1 Axes>"
      ]
     },
     "metadata": {
      "needs_background": "light"
     },
     "output_type": "display_data"
    }
   ],
   "source": [
    "vote['Party'].value_counts()[:20].plot(kind='barh')"
   ]
  },
  {
   "cell_type": "code",
   "execution_count": null,
   "metadata": {
    "colab": {
     "base_uri": "https://localhost:8080/"
    },
    "executionInfo": {
     "elapsed": 149,
     "status": "ok",
     "timestamp": 1625922325437,
     "user": {
      "displayName": "Faiz Ikramulla",
      "photoUrl": "https://lh3.googleusercontent.com/a-/AOh14Gh7wC-sN-_JqiH2qfxfrvGhNIJjafGKLk1NOkM9RA=s64",
      "userId": "06226127205799252353"
     },
     "user_tz": 300
    },
    "id": "ToGeC5RGfH1t",
    "outputId": "458043b8-6a7c-4a0b-f2b5-a05da26acee9"
   },
   "outputs": [
    {
     "data": {
      "text/plain": [
       "Unaffiliated                           26134\n",
       "Democratic Party                       19984\n",
       "Republican Party                       18643\n",
       "Libertarian Party                      12586\n",
       "Unity Party of Colorado                10224\n",
       "Approval Voting Party                   7276\n",
       "Green Party                             6438\n",
       "American Constitution Party             3205\n",
       "Independent                             3205\n",
       "Socialism and Liberation                3205\n",
       "Socialist Workers Party                 3205\n",
       "Progressive Party                       3205\n",
       "Prohibition Party                       3205\n",
       "No Party Affiliation                    3205\n",
       "American Solidarity Party               3205\n",
       "Socialist Equality Party                3205\n",
       "Alliance Party                          3205\n",
       "Independent American Party              3205\n",
       "Unaffiliated / No Party Affiliation     3205\n",
       "Name: Party, dtype: int64"
      ]
     },
     "execution_count": 19,
     "metadata": {
      "tags": []
     },
     "output_type": "execute_result"
    }
   ],
   "source": [
    "vote[\"Party\"].value_counts()\n",
    "#hmmmm, 6 viable parties, and 'unaffiliated' category"
   ]
  },
  {
   "cell_type": "code",
   "execution_count": 15,
   "metadata": {
    "colab": {
     "base_uri": "https://localhost:8080/"
    },
    "executionInfo": {
     "elapsed": 147,
     "status": "ok",
     "timestamp": 1625922429841,
     "user": {
      "displayName": "Faiz Ikramulla",
      "photoUrl": "https://lh3.googleusercontent.com/a-/AOh14Gh7wC-sN-_JqiH2qfxfrvGhNIJjafGKLk1NOkM9RA=s64",
      "userId": "06226127205799252353"
     },
     "user_tz": 300
    },
    "id": "ZIlRjOe_fRyS",
    "outputId": "34ecda45-c971-4bfb-e7c2-69c97d19b1bf"
   },
   "outputs": [
    {
     "data": {
      "text/plain": [
       "State                     object\n",
       "Year                       int64\n",
       "Election Type             object\n",
       "County                    object\n",
       "Precinct                   int64\n",
       "Office/Issue/Judgeship    object\n",
       "Candidate                 object\n",
       "Party                       int8\n",
       "Candidate Votes            int64\n",
       "Yes Votes                  int64\n",
       "No Votes                   int64\n",
       "dtype: object"
      ]
     },
     "execution_count": 15,
     "metadata": {},
     "output_type": "execute_result"
    }
   ],
   "source": [
    "#trick python, encode party\n",
    "vote[\"Party\"] = vote[\"Party\"].astype('category')\n",
    "vote[\"Party\"] = vote[\"Party\"].cat.codes\n",
    "vote.dtypes"
   ]
  },
  {
   "cell_type": "code",
   "execution_count": 17,
   "metadata": {
    "colab": {
     "base_uri": "https://localhost:8080/"
    },
    "executionInfo": {
     "elapsed": 139,
     "status": "ok",
     "timestamp": 1625922523326,
     "user": {
      "displayName": "Faiz Ikramulla",
      "photoUrl": "https://lh3.googleusercontent.com/a-/AOh14Gh7wC-sN-_JqiH2qfxfrvGhNIJjafGKLk1NOkM9RA=s64",
      "userId": "06226127205799252353"
     },
     "user_tz": 300
    },
    "id": "uYFsAsmyftZL",
    "outputId": "f04045de-8911-4ec8-fead-d6672076ded8"
   },
   "outputs": [
    {
     "data": {
      "text/plain": [
       "-1     72201\n",
       " 16    26134\n",
       " 4     19984\n",
       " 12    18643\n",
       " 8     12586\n",
       " 18    10224\n",
       " 3      7276\n",
       " 5      6438\n",
       " 17     3205\n",
       " 15     3205\n",
       " 14     3205\n",
       " 13     3205\n",
       " 0      3205\n",
       " 11     3205\n",
       " 1      3205\n",
       " 9      3205\n",
       " 7      3205\n",
       " 6      3205\n",
       " 2      3205\n",
       " 10     3205\n",
       "Name: Party, dtype: int64"
      ]
     },
     "execution_count": 17,
     "metadata": {},
     "output_type": "execute_result"
    }
   ],
   "source": [
    "vote[\"Party\"].value_counts()\n",
    "#4 is dem, 12 is repub, 16 is unaffiliated, 8 is libertarian, 18 is unity, 3 is approval, 5 is green ! \n",
    "#7 groups!!!\n",
    "#it is strange all the rest (12 of them) are 3205 ??"
   ]
  },
  {
   "cell_type": "code",
   "execution_count": 18,
   "metadata": {
    "colab": {
     "base_uri": "https://localhost:8080/"
    },
    "executionInfo": {
     "elapsed": 170,
     "status": "ok",
     "timestamp": 1625921924321,
     "user": {
      "displayName": "Faiz Ikramulla",
      "photoUrl": "https://lh3.googleusercontent.com/a-/AOh14Gh7wC-sN-_JqiH2qfxfrvGhNIJjafGKLk1NOkM9RA=s64",
      "userId": "06226127205799252353"
     },
     "user_tz": 300
    },
    "id": "GQpb2Cqkf4_Q",
    "outputId": "7d470e8d-4a05-4fc0-e3db-43fd6008b2d1"
   },
   "outputs": [
    {
     "data": {
      "text/plain": [
       "State                     object\n",
       "Year                       int64\n",
       "Election Type             object\n",
       "County                    object\n",
       "Precinct                   int64\n",
       "Office/Issue/Judgeship    object\n",
       "Candidate                 object\n",
       "Party                       int8\n",
       "Candidate Votes            int64\n",
       "Yes Votes                  int64\n",
       "No Votes                   int64\n",
       "dtype: object"
      ]
     },
     "execution_count": 18,
     "metadata": {},
     "output_type": "execute_result"
    }
   ],
   "source": [
    "vote.dtypes"
   ]
  },
  {
   "cell_type": "code",
   "execution_count": 19,
   "metadata": {
    "colab": {
     "base_uri": "https://localhost:8080/",
     "height": 328
    },
    "executionInfo": {
     "elapsed": 200,
     "status": "ok",
     "timestamp": 1625921939548,
     "user": {
      "displayName": "Faiz Ikramulla",
      "photoUrl": "https://lh3.googleusercontent.com/a-/AOh14Gh7wC-sN-_JqiH2qfxfrvGhNIJjafGKLk1NOkM9RA=s64",
      "userId": "06226127205799252353"
     },
     "user_tz": 300
    },
    "id": "PMlML1u5f8f8",
    "outputId": "7f909747-9179-476f-8c01-516eae90c3f7"
   },
   "outputs": [
    {
     "data": {
      "text/html": [
       "<div>\n",
       "<style scoped>\n",
       "    .dataframe tbody tr th:only-of-type {\n",
       "        vertical-align: middle;\n",
       "    }\n",
       "\n",
       "    .dataframe tbody tr th {\n",
       "        vertical-align: top;\n",
       "    }\n",
       "\n",
       "    .dataframe thead th {\n",
       "        text-align: right;\n",
       "    }\n",
       "</style>\n",
       "<table border=\"1\" class=\"dataframe\">\n",
       "  <thead>\n",
       "    <tr style=\"text-align: right;\">\n",
       "      <th></th>\n",
       "      <th>State</th>\n",
       "      <th>Year</th>\n",
       "      <th>Election Type</th>\n",
       "      <th>County</th>\n",
       "      <th>Precinct</th>\n",
       "      <th>Office/Issue/Judgeship</th>\n",
       "      <th>Candidate</th>\n",
       "      <th>Party</th>\n",
       "      <th>Candidate Votes</th>\n",
       "      <th>Yes Votes</th>\n",
       "      <th>No Votes</th>\n",
       "    </tr>\n",
       "  </thead>\n",
       "  <tbody>\n",
       "    <tr>\n",
       "      <th>0</th>\n",
       "      <td>Colorado</td>\n",
       "      <td>2020</td>\n",
       "      <td>G</td>\n",
       "      <td>Adams</td>\n",
       "      <td>4253001245</td>\n",
       "      <td>President/Vice President</td>\n",
       "      <td>Joseph R. Biden / Kamala D. Harris</td>\n",
       "      <td>4</td>\n",
       "      <td>72</td>\n",
       "      <td>0</td>\n",
       "      <td>0</td>\n",
       "    </tr>\n",
       "    <tr>\n",
       "      <th>1</th>\n",
       "      <td>Colorado</td>\n",
       "      <td>2020</td>\n",
       "      <td>G</td>\n",
       "      <td>Adams</td>\n",
       "      <td>4253001245</td>\n",
       "      <td>President/Vice President</td>\n",
       "      <td>Donald J. Trump / Michael R. Pence</td>\n",
       "      <td>12</td>\n",
       "      <td>279</td>\n",
       "      <td>0</td>\n",
       "      <td>0</td>\n",
       "    </tr>\n",
       "    <tr>\n",
       "      <th>2</th>\n",
       "      <td>Colorado</td>\n",
       "      <td>2020</td>\n",
       "      <td>G</td>\n",
       "      <td>Adams</td>\n",
       "      <td>4253001245</td>\n",
       "      <td>President/Vice President</td>\n",
       "      <td>Don Blankenship / William Mohr</td>\n",
       "      <td>1</td>\n",
       "      <td>0</td>\n",
       "      <td>0</td>\n",
       "      <td>0</td>\n",
       "    </tr>\n",
       "    <tr>\n",
       "      <th>3</th>\n",
       "      <td>Colorado</td>\n",
       "      <td>2020</td>\n",
       "      <td>G</td>\n",
       "      <td>Adams</td>\n",
       "      <td>4253001245</td>\n",
       "      <td>President/Vice President</td>\n",
       "      <td>Bill Hammons / Eric Bodenstab</td>\n",
       "      <td>18</td>\n",
       "      <td>0</td>\n",
       "      <td>0</td>\n",
       "      <td>0</td>\n",
       "    </tr>\n",
       "    <tr>\n",
       "      <th>4</th>\n",
       "      <td>Colorado</td>\n",
       "      <td>2020</td>\n",
       "      <td>G</td>\n",
       "      <td>Adams</td>\n",
       "      <td>4253001245</td>\n",
       "      <td>President/Vice President</td>\n",
       "      <td>Howie Hawkins / Angela Nicole Walker</td>\n",
       "      <td>5</td>\n",
       "      <td>0</td>\n",
       "      <td>0</td>\n",
       "      <td>0</td>\n",
       "    </tr>\n",
       "  </tbody>\n",
       "</table>\n",
       "</div>"
      ],
      "text/plain": [
       "      State  Year Election Type County    Precinct    Office/Issue/Judgeship  \\\n",
       "0  Colorado  2020             G  Adams  4253001245  President/Vice President   \n",
       "1  Colorado  2020             G  Adams  4253001245  President/Vice President   \n",
       "2  Colorado  2020             G  Adams  4253001245  President/Vice President   \n",
       "3  Colorado  2020             G  Adams  4253001245  President/Vice President   \n",
       "4  Colorado  2020             G  Adams  4253001245  President/Vice President   \n",
       "\n",
       "                              Candidate  Party  Candidate Votes  Yes Votes  \\\n",
       "0    Joseph R. Biden / Kamala D. Harris      4               72          0   \n",
       "1    Donald J. Trump / Michael R. Pence     12              279          0   \n",
       "2        Don Blankenship / William Mohr      1                0          0   \n",
       "3         Bill Hammons / Eric Bodenstab     18                0          0   \n",
       "4  Howie Hawkins / Angela Nicole Walker      5                0          0   \n",
       "\n",
       "   No Votes  \n",
       "0         0  \n",
       "1         0  \n",
       "2         0  \n",
       "3         0  \n",
       "4         0  "
      ]
     },
     "execution_count": 19,
     "metadata": {},
     "output_type": "execute_result"
    }
   ],
   "source": [
    "vote.head()"
   ]
  },
  {
   "cell_type": "code",
   "execution_count": 20,
   "metadata": {
    "colab": {
     "base_uri": "https://localhost:8080/"
    },
    "executionInfo": {
     "elapsed": 139,
     "status": "ok",
     "timestamp": 1625921953818,
     "user": {
      "displayName": "Faiz Ikramulla",
      "photoUrl": "https://lh3.googleusercontent.com/a-/AOh14Gh7wC-sN-_JqiH2qfxfrvGhNIJjafGKLk1NOkM9RA=s64",
      "userId": "06226127205799252353"
     },
     "user_tz": 300
    },
    "id": "mxXDtsDAgBed",
    "outputId": "e5ad3c50-8a60-4d55-b129-01cbc012f622"
   },
   "outputs": [
    {
     "data": {
      "text/plain": [
       "-1     72201\n",
       " 16    26134\n",
       " 4     19984\n",
       " 12    18643\n",
       " 8     12586\n",
       " 18    10224\n",
       " 3      7276\n",
       " 5      6438\n",
       " 17     3205\n",
       " 15     3205\n",
       " 14     3205\n",
       " 13     3205\n",
       " 0      3205\n",
       " 11     3205\n",
       " 1      3205\n",
       " 9      3205\n",
       " 7      3205\n",
       " 6      3205\n",
       " 2      3205\n",
       " 10     3205\n",
       "Name: Party, dtype: int64"
      ]
     },
     "execution_count": 20,
     "metadata": {},
     "output_type": "execute_result"
    }
   ],
   "source": [
    "vote[\"Party\"].value_counts()\n",
    "#wtf is -1 (must be NAs - its the most), and why are many listed as 3205\n",
    "#4 is dem, 12 is repub, 16 is "
   ]
  },
  {
   "cell_type": "code",
   "execution_count": 21,
   "metadata": {
    "colab": {
     "base_uri": "https://localhost:8080/"
    },
    "executionInfo": {
     "elapsed": 286,
     "status": "ok",
     "timestamp": 1625922591378,
     "user": {
      "displayName": "Faiz Ikramulla",
      "photoUrl": "https://lh3.googleusercontent.com/a-/AOh14Gh7wC-sN-_JqiH2qfxfrvGhNIJjafGKLk1NOkM9RA=s64",
      "userId": "06226127205799252353"
     },
     "user_tz": 300
    },
    "id": "9Kn-tw_igXxA",
    "outputId": "7ce523eb-2b54-4704-b1be-ec2e394d5463"
   },
   "outputs": [
    {
     "data": {
      "text/plain": [
       "array([[<matplotlib.axes._subplots.AxesSubplot object at 0x00000210A56E3640>]],\n",
       "      dtype=object)"
      ]
     },
     "execution_count": 21,
     "metadata": {},
     "output_type": "execute_result"
    },
    {
     "data": {
      "image/png": "[encoded data removed]",
      "text/plain": [
       "<Figure size 432x288 with 1 Axes>"
      ]
     },
     "metadata": {
      "needs_background": "light"
     },
     "output_type": "display_data"
    }
   ],
   "source": [
    "vote.hist(column='Party')"
   ]
  },
  {
   "cell_type": "code",
   "execution_count": 28,
   "metadata": {
    "colab": {
     "base_uri": "https://localhost:8080/",
     "height": 241
    },
    "executionInfo": {
     "elapsed": 182,
     "status": "error",
     "timestamp": 1625923453490,
     "user": {
      "displayName": "Faiz Ikramulla",
      "photoUrl": "https://lh3.googleusercontent.com/a-/AOh14Gh7wC-sN-_JqiH2qfxfrvGhNIJjafGKLk1NOkM9RA=s64",
      "userId": "06226127205799252353"
     },
     "user_tz": 300
    },
    "id": "i9UsyEU3lZA6",
    "outputId": "6bb0c6b7-2d80-43c3-9258-e88cdf7ad07c",
    "scrolled": true
   },
   "outputs": [
    {
     "data": {
      "text/plain": [
       "<matplotlib.axes._subplots.AxesSubplot at 0x210a6b37340>"
      ]
     },
     "execution_count": 28,
     "metadata": {},
     "output_type": "execute_result"
    },
    {
     "data": {
      "image/png": "[encoded data removed]",
      "text/plain": [
       "<Figure size 432x288 with 1 Axes>"
      ]
     },
     "metadata": {
      "needs_background": "light"
     },
     "output_type": "display_data"
    }
   ],
   "source": [
    "#anonymized parties\n",
    "vote['Party'].value_counts()[:20].plot(kind='barh')"
   ]
  },
  {
   "cell_type": "code",
   "execution_count": 23,
   "metadata": {},
   "outputs": [
    {
     "name": "stderr",
     "output_type": "stream",
     "text": [
      "<ipython-input-23-1710af8edbc2>:2: FutureWarning: Your version of xlrd is 1.2.0. In xlrd >= 2.0, only the xls format is supported. As a result, the openpyxl engine will be used if it is installed and the engine argument is not specified. Install openpyxl instead.\n",
      "  v2 = pd.read_excel('2020GEPrecinctLevelResultsPosted.xlsx')\n"
     ]
    }
   ],
   "source": [
    "#check against orignal (for missing)\n",
    "v2 = pd.read_excel('2020GEPrecinctLevelResultsPosted.xlsx') "
   ]
  },
  {
   "cell_type": "code",
   "execution_count": 24,
   "metadata": {
    "scrolled": true
   },
   "outputs": [
    {
     "data": {
      "text/plain": [
       "<matplotlib.axes._subplots.AxesSubplot at 0x210a72e0d00>"
      ]
     },
     "execution_count": 24,
     "metadata": {},
     "output_type": "execute_result"
    },
    {
     "data": {
      "image/png": "[encoded data removed]",
      "text/plain": [
       "<Figure size 432x288 with 1 Axes>"
      ]
     },
     "metadata": {
      "needs_background": "light"
     },
     "output_type": "display_data"
    }
   ],
   "source": [
    "v2['Party'].value_counts()[:20].plot(kind='barh')"
   ]
  },
  {
   "cell_type": "code",
   "execution_count": 25,
   "metadata": {},
   "outputs": [
    {
     "data": {
      "text/plain": [
       "35255"
      ]
     },
     "execution_count": 25,
     "metadata": {},
     "output_type": "execute_result"
    }
   ],
   "source": [
    "vote.isna().sum().sum()"
   ]
  },
  {
   "cell_type": "code",
   "execution_count": 27,
   "metadata": {},
   "outputs": [
    {
     "data": {
      "text/plain": [
       "Unaffiliated                           26134\n",
       "Democratic Party                       19984\n",
       "Republican Party                       18643\n",
       "Libertarian Party                      12586\n",
       "Unity Party of Colorado                10224\n",
       "Approval Voting Party                   7276\n",
       "Green Party                             6438\n",
       "Socialist Equality Party                3205\n",
       "Independent                             3205\n",
       "American Solidarity Party               3205\n",
       "Socialism and Liberation                3205\n",
       "No Party Affiliation                    3205\n",
       "Unaffiliated / No Party Affiliation     3205\n",
       "Progressive Party                       3205\n",
       "Socialist Workers Party                 3205\n",
       "Prohibition Party                       3205\n",
       "Alliance Party                          3205\n",
       "Independent American Party              3205\n",
       "American Constitution Party             3205\n",
       "Name: Party, dtype: int64"
      ]
     },
     "execution_count": 27,
     "metadata": {},
     "output_type": "execute_result"
    }
   ],
   "source": [
    "v2[\"Party\"].value_counts()\n",
    "#not sure what is getting encoded as -1 (72K)... will revist, at least the top 7 are correct"
   ]
  }
 ],
 "metadata": {
  "accelerator": "GPU",
  "colab": {
   "authorship_tag": "ABX9TyMTL+BkQyXkh6Du827C7ODp",
   "collapsed_sections": [],
   "name": "load_colorado_v2.ipynb",
   "provenance": [
    {
     "file_id": "1Ynd3oPXXeGn53kq--TaGouPncAetzpqx",
     "timestamp": 1625922601448
    }
   ]
  },
  "kernelspec": {
   "display_name": "Python 3",
   "language": "python",
   "name": "python3"
  },
  "language_info": {
   "codemirror_mode": {
    "name": "ipython",
    "version": 3
   },
   "file_extension": ".py",
   "mimetype": "text/x-python",
   "name": "python",
   "nbconvert_exporter": "python",
   "pygments_lexer": "ipython3",
   "version": "3.8.6"
  }
 },
 "nbformat": 4,
 "nbformat_minor": 1
}
