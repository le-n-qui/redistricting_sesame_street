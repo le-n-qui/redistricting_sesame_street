{
 "cells": [
  {
   "cell_type": "code",
   "execution_count": 4,
   "id": "0e69f633",
   "metadata": {},
   "outputs": [],
   "source": [
    "#baseline test\n",
    "#071121\n",
    "#try to add viz (multicolor) and alternate groupong scenarios"
   ]
  },
  {
   "cell_type": "code",
   "execution_count": 115,
   "id": "0f58b5f0",
   "metadata": {},
   "outputs": [],
   "source": [
    "import random as rnd\n",
    "from typing import Sized\n",
    "\n",
    "import pandas as pd\n",
    "import numpy as np\n",
    "import seaborn as sns\n",
    "import matplotlib.pyplot as plt\n",
    "import sklearn\n",
    "import io"
   ]
  },
  {
   "cell_type": "markdown",
   "id": "2c3350e6",
   "metadata": {},
   "source": [
    "## Class Definitions (Voter and Community)"
   ]
  },
  {
   "cell_type": "code",
   "execution_count": 116,
   "id": "938ab38e",
   "metadata": {},
   "outputs": [],
   "source": [
    "#class Voter\n",
    "\n",
    "class Voter():\n",
    "    def __init__(self):\n",
    "        self.lean = \"_\"\n",
    "    def __init__(self, lean):\n",
    "        self.lean = lean\n",
    "    def set_lean(self, voter_lean):\n",
    "        self.lean = voter_lean\n",
    "        \n",
    "#class Community       \n",
    "class Community():\n",
    "    def __init__(self):\n",
    "        self.voter_list = [] # a community is a collection of voters\n",
    "        self.voter_districts = [] # a community is also a collection of districts, voters belong in districts\n",
    "        self.voter_lean_blue = 0\n",
    "        self.voter_lean_red = 0\n",
    "        self.voter_lean_grey = 0\n",
    "    def Add_Voter(self, voter):\n",
    "        self.voter_list.append(voter)\n",
    "    def Add_District(self, district):\n",
    "        self.voter_districts.append(district)\n",
    "        \n",
    "    def Set_Voter_List(self, voter_string):\n",
    "        self.voter_list = [Voter(lean) for lean in voter_string]\n",
    "        \n",
    "    def Get_Voter_String(self):\n",
    "        Voter_String = \"\"\n",
    "        for v in self.voter_list:\n",
    "            Voter_String = Voter_String + v.lean\n",
    "        return Voter_String\n",
    "    \n",
    "    def Get_Community_Lean(self):\n",
    "        self.voter_lean_blue = 0\n",
    "        self.voter_lean_red = 0\n",
    "        self.voter_lean_grey = 0\n",
    "        for voter in self.voter_list:\n",
    "            if voter.lean == \"+\":\n",
    "                self.voter_lean_blue = self.voter_lean_blue + 1\n",
    "            elif voter.lean == \"-\":\n",
    "                self.voter_lean_red = self.voter_lean_red + 1\n",
    "            else:\n",
    "                self.voter_lean_grey = self.voter_lean_grey + 1\n",
    "        if self.voter_lean_blue >= self.voter_lean_red and self.voter_lean_blue >= self.voter_lean_grey:\n",
    "            community_lean = \"Blue\"\n",
    "        elif self.voter_lean_red >= self.voter_lean_blue and self.voter_lean_red >= self.voter_lean_grey:\n",
    "            community_lean = \"Red\"\n",
    "        elif self.voter_lean_grey >= self.voter_lean_blue and self.voter_lean_grey >= self.voter_lean_red:\n",
    "            community_lean = \"Grey\"\n",
    "        return community_lean"
   ]
  },
  {
   "cell_type": "markdown",
   "id": "3f272300",
   "metadata": {},
   "source": [
    "# GAME 1"
   ]
  },
  {
   "cell_type": "markdown",
   "id": "b2d7b958",
   "metadata": {},
   "source": [
    "## 'Community A' Setup - Game 1"
   ]
  },
  {
   "cell_type": "code",
   "execution_count": 117,
   "id": "cea3e3ee",
   "metadata": {},
   "outputs": [
    {
     "name": "stdout",
     "output_type": "stream",
     "text": [
      "\n",
      "-++?--++---++++-++-+-------++-?++++-+-+---+-----++++++---+++++----+---+--++++++++++++++----++++++--+\n",
      "Blue 54 44 2\n",
      "\n"
     ]
    }
   ],
   "source": [
    "#create a random selection of 100 people\n",
    "#40% chance \"+\", 30% chance \"-\", 30% chance \"?\"\n",
    "#0-.4 Blue .4-.7 Red .7-1 Grey\n",
    "#you are *more likely* to be the same color as your neighbor\n",
    "Person = 0\n",
    "Blue_Limit = .52\n",
    "Red_Limit = .97\n",
    "Grey_Limit = 1\n",
    "Total_Blues = 0\n",
    "Total_Reds = 0\n",
    "Total_Greys = 0\n",
    "Total_Lean = \"\"\n",
    "community = Community()\n",
    "while Person < 100:\n",
    "    number = rnd.random()\n",
    "    if number < Blue_Limit:\n",
    "        lean = \"+\"\n",
    "        Blue_Limit_New = .7\n",
    "        Red_Limit_New = .97\n",
    "        Grey_Limit_New = 1\n",
    "        Total_Blues = Total_Blues + 1\n",
    "    elif number < Red_Limit:\n",
    "        lean = \"-\"\n",
    "        Blue_Limit_New = .32\n",
    "        Red_Limit_New = .97\n",
    "        Grey_Limit_New = 1\n",
    "        Total_Reds = Total_Reds + 1\n",
    "    else:\n",
    "        lean = \"?\"\n",
    "        Blue_Limit_New = .45\n",
    "        Red_Limit_New = .9\n",
    "        Grey_Limit_New = 1\n",
    "        Total_Greys = Total_Greys + 1\n",
    "    v = Voter(lean)\n",
    "    community.Add_Voter(v)\n",
    "    Blue_Limit = Blue_Limit_New\n",
    "    Red_Limit = Red_Limit_New\n",
    "    Grey_Limit = Grey_Limit_New\n",
    "    Total_Lean = Total_Lean + lean\n",
    "    Person = Person + 1\n",
    "print ()\n",
    "print (community.Get_Voter_String())\n",
    "print (community.Get_Community_Lean(), community.voter_lean_blue, community.voter_lean_red, community.voter_lean_grey)\n",
    "print ()"
   ]
  },
  {
   "cell_type": "markdown",
   "id": "a7ba0a23",
   "metadata": {},
   "source": [
    "## Play (Districting) - Game 1:  "
   ]
  },
  {
   "cell_type": "code",
   "execution_count": 12,
   "id": "cc99bad6",
   "metadata": {},
   "outputs": [],
   "source": [
    "#gamescenario #1 - \n",
    "#A) #random leans w/ parameters as per 'community setup A'; \n",
    "#B) #sequential districting 0-9, 10-19, etc."
   ]
  },
  {
   "cell_type": "code",
   "execution_count": 118,
   "id": "99cd8847",
   "metadata": {},
   "outputs": [
    {
     "name": "stdout",
     "output_type": "stream",
     "text": [
      "\n",
      "-++?--++--\n",
      "Red\n",
      "\n",
      "-++++-++-+\n",
      "Blue\n",
      "\n",
      "-------++-\n",
      "Red\n",
      "\n",
      "?++++-+-+-\n",
      "Blue\n",
      "\n",
      "--+-----++\n",
      "Red\n",
      "\n",
      "++++---+++\n",
      "Blue\n",
      "\n",
      "++----+---\n",
      "Red\n",
      "\n",
      "+--+++++++\n",
      "Blue\n",
      "\n",
      "+++++++---\n",
      "Blue\n",
      "\n",
      "-++++++--+\n",
      "Blue\n",
      "\n",
      "Blue 54 44 2\n",
      "Blue 6 4 0\n"
     ]
    }
   ],
   "source": [
    "#let's split up our community in smaller communities (i.e. districts)\n",
    "for i in range(0, 10):\n",
    "    #define a district\n",
    "    D = Community()\n",
    "    #assign the proper voters to the proper district (voters 0 through 9 to District 1, voters 10 through 19 to District 2, etc...)\n",
    "    D.voter_list = community.voter_list[i*10 : i*10 + 10]\n",
    "    community.Add_District(D)\n",
    "    print()\n",
    "    print (D.Get_Voter_String())\n",
    "    print (D.Get_Community_Lean())\n",
    "districts_leaning_blue = 0\n",
    "districts_leaning_red = 0\n",
    "districts_leaning_grey = 0\n",
    "for d in community.voter_districts:\n",
    "    if d.Get_Community_Lean() == \"Blue\":\n",
    "        districts_leaning_blue = districts_leaning_blue + 1\n",
    "    elif d.Get_Community_Lean() == \"Red\":\n",
    "        districts_leaning_red = districts_leaning_red + 1\n",
    "    elif d.Get_Community_Lean() == \"Grey\":\n",
    "        districts_leaning_grey = districts_leaning_grey + 1\n",
    "districts_lean = \"\"\n",
    "if districts_leaning_blue >= districts_leaning_red and districts_leaning_blue >= districts_leaning_grey:\n",
    "    districts_lean = \"Blue\"\n",
    "elif districts_leaning_red >= districts_leaning_blue and districts_leaning_red >= districts_leaning_grey:\n",
    "    districts_lean = \"Red\"\n",
    "elif districts_leaning_grey >= districts_leaning_blue and districts_leaning_grey >= districts_leaning_red:\n",
    "    districts_lean = \"Grey\"\n",
    "print()\n",
    "print (community.Get_Community_Lean(), community.voter_lean_blue, community.voter_lean_red, community.voter_lean_grey)\n",
    "print (districts_lean, districts_leaning_blue, districts_leaning_red, districts_leaning_grey)"
   ]
  },
  {
   "cell_type": "markdown",
   "id": "ae08dfc8",
   "metadata": {},
   "source": [
    "## Visualization Game 1"
   ]
  },
  {
   "cell_type": "code",
   "execution_count": 14,
   "id": "8dc2770d",
   "metadata": {},
   "outputs": [],
   "source": [
    "#try a multiclolr (3 color) grid of this instead of -,+,?\n",
    "#and we can add more colors levels/gradients later!"
   ]
  },
  {
   "cell_type": "code",
   "execution_count": 28,
   "id": "dcc94f9a",
   "metadata": {},
   "outputs": [],
   "source": [
    "#import pandas as pd\n",
    "#import numpy as np\n",
    "#import seaborn as sns\n",
    "#import matplotlib.pyplot as plt\n",
    "#import sklearn"
   ]
  },
  {
   "cell_type": "code",
   "execution_count": 24,
   "id": "9878eb93",
   "metadata": {},
   "outputs": [],
   "source": [
    "#blank for now"
   ]
  },
  {
   "cell_type": "markdown",
   "id": "859f7b32",
   "metadata": {},
   "source": [
    "## Evaluation Metrics Game 1"
   ]
  },
  {
   "cell_type": "code",
   "execution_count": 32,
   "id": "cd7522fd",
   "metadata": {},
   "outputs": [],
   "source": [
    "#look at stats parameters, distances vs. similarities, etc. to benchmark for future scenarios\n",
    "#no bias evaluation to meet rules - \n",
    "#     1) ~ equal. # of voters per district\n",
    "#     2) absolutely no discrimination (classification) based on race or ethnicity or (other tbd)\n",
    "########################\n",
    "#classifying based on some other parameter may be ok and preferred.  ie. in game1 - based on groups of 10, starting at 0 - \n",
    "#however, there will be an abrupt district cut at the transition from 9 \n",
    "#possibilities - 1) supermarket preference: [walmart, target, meijer]\n",
    "#                2) hardware store preferences: [menards, lowes, home depot]\n",
    "#                3) age (18-40, 41-70, 70+) (legal but not ethical)\n",
    "#                4) shoe size, height (ensure it is balanced in each district 33%, 33%, 33% across each range) (great idea!)\n",
    "#                5) other"
   ]
  },
  {
   "cell_type": "code",
   "execution_count": 25,
   "id": "33b81e83",
   "metadata": {},
   "outputs": [],
   "source": [
    "#blank for now"
   ]
  },
  {
   "cell_type": "markdown",
   "id": "2149e781",
   "metadata": {},
   "source": [
    "# GAME 2"
   ]
  },
  {
   "cell_type": "code",
   "execution_count": null,
   "id": "50ef56ba",
   "metadata": {},
   "outputs": [],
   "source": [
    "#gamescenario #2 - \n",
    "#A) #random leans w/ parameters as per 'community setup A'; \n",
    "#B) #decadal districting 0,10,20..., 1,11,21..., 9,19,29..., etc."
   ]
  },
  {
   "cell_type": "markdown",
   "id": "a9db2749",
   "metadata": {},
   "source": [
    "## 'Community B' Setup - Game 2   \n",
    "### (should be more or less the same as Game1, different syntax)"
   ]
  },
  {
   "cell_type": "code",
   "execution_count": 119,
   "id": "0148c12f",
   "metadata": {},
   "outputs": [
    {
     "name": "stdout",
     "output_type": "stream",
     "text": [
      "\n",
      "++?+?+------++-++-++++-++++---+----+----+++-+---+--++--++-+?--+-++------++++++++--+++++++--+--++--++\n",
      "Blue 51 46 3\n",
      "\n"
     ]
    }
   ],
   "source": [
    "Person = 0\n",
    "Blue_Limit = .52\n",
    "Red_Limit = .97\n",
    "Grey_Limit = 1\n",
    "Total_Blues = 0\n",
    "Total_Reds = 0\n",
    "Total_Greys = 0\n",
    "Total_Lean = \"\"\n",
    "community = Community()\n",
    "\n",
    "district = []\n",
    "\n",
    "while Person < 100:\n",
    "    number = rnd.random()\n",
    "    if number < Blue_Limit:\n",
    "        lean = \"+\"\n",
    "        Blue_Limit_New = .7\n",
    "        Red_Limit_New = .97\n",
    "        Grey_Limit_New = 1\n",
    "        Total_Blues = Total_Blues + 1\n",
    "    elif number < Red_Limit:\n",
    "        lean = \"-\"\n",
    "        Blue_Limit_New = .32\n",
    "        Red_Limit_New = .97\n",
    "        Grey_Limit_New = 1\n",
    "        Total_Reds = Total_Reds + 1\n",
    "    else:\n",
    "        lean = \"?\"\n",
    "        Blue_Limit_New = .45\n",
    "        Red_Limit_New = .9\n",
    "        Grey_Limit_New = 1\n",
    "        Total_Greys = Total_Greys + 1\n",
    "    v = Voter(lean)\n",
    "    community.Add_Voter(v)\n",
    "    Blue_Limit = Blue_Limit_New\n",
    "    Red_Limit = Red_Limit_New\n",
    "    Grey_Limit = Grey_Limit_New\n",
    "    Total_Lean = Total_Lean + lean\n",
    "    Person = Person + 1\n",
    "\n",
    "print()\n",
    "print(community.Get_Voter_String())\n",
    "print(community.Get_Community_Lean(), community.voter_lean_blue, community.voter_lean_red, community.voter_lean_grey)\n",
    "print()\n",
    "\n",
    "\n"
   ]
  },
  {
   "cell_type": "markdown",
   "id": "af2831e1",
   "metadata": {},
   "source": [
    "## Play - Game 2:  "
   ]
  },
  {
   "cell_type": "code",
   "execution_count": 120,
   "id": "52583965",
   "metadata": {},
   "outputs": [
    {
     "name": "stdout",
     "output_type": "stream",
     "text": [
      "\n",
      "+-+++-----\n",
      "Red\n",
      "\n",
      "+-+-++---+\n",
      "Blue\n",
      "\n",
      "?+--+++++-\n",
      "Blue\n",
      "\n",
      "+++----++-\n",
      "Blue\n",
      "\n",
      "?-+-+-++++\n",
      "Blue\n",
      "\n",
      "++++-+++++\n",
      "Blue\n",
      "\n",
      "-++--+-++-\n",
      "Blue\n",
      "\n",
      "-------++-\n",
      "Red\n",
      "\n",
      "-+--++-+++\n",
      "Blue\n",
      "\n",
      "-+---?-+-+\n",
      "Red\n",
      "\n",
      "[['+-+++-----'], ['+-+-++---+'], ['?+--+++++-'], ['+++----++-'], ['?-+-+-++++'], ['++++-+++++'], ['-++--+-++-'], ['-------++-'], ['-+--++-+++'], ['-+---?-+-+']]\n",
      "\n",
      "\t\t\tPlus\tMinus\tIndep\n",
      "Community leaning: Blue 51 \t 46 \t 3\n",
      "Districts leaning: Blue 10 \t 0 \t 0\n"
     ]
    }
   ],
   "source": [
    "#let's split up our community in smaller communities (i.e. districts)\n",
    "##\n",
    "# community size:\n",
    "com_size = 100\n",
    "# step size\n",
    "step = 10 #this is mathematia bias, it is seeming an independent choice, but it always seems to end up 10/0\n",
    "# temporary holder of voters\n",
    "voter_ls = []\n",
    "##\n",
    "for i in range(0, 10):\n",
    "    #define a district\n",
    "    D = Community()\n",
    "    \n",
    "    #assign the proper voters to the proper district (voters 0 through 9 to District 1, voters 10 through 19 to District 2, etc...)\n",
    "    # D.voter_list = community.voter_list[i*10 : i*10 + 10]\n",
    "    \n",
    "    ##\n",
    "    # Update voter index for next district starting at i\n",
    "    voter_index = i\n",
    "    # Iterate through the community.voter_list (1D)\n",
    "    while voter_index < com_size: # Reminder: make a constant for 100\n",
    "        # Pick a voter: one in every ten \n",
    "        # Append to voter_ls\n",
    "        voter_ls.append(community.voter_list[voter_index])\n",
    "        # Update voter index\n",
    "        voter_index = voter_index + step\n",
    "    # Append\n",
    "    D.voter_list = voter_ls\n",
    "    ##\n",
    "    \n",
    "    community.Add_District(D)\n",
    "    print()\n",
    "    print(D.Get_Voter_String())\n",
    "    # put voter string into district\n",
    "    district.append(D.Get_Voter_String().split())\n",
    "    \n",
    "    print(D.Get_Community_Lean())\n",
    "    \n",
    "    ## Reset temporary voter_ls\n",
    "    voter_ls.clear()\n",
    "    \n",
    "districts_leaning_blue = 0\n",
    "districts_leaning_red = 0\n",
    "districts_leaning_grey = 0\n",
    "\n",
    "for d in community.voter_districts: # voter_districts after split\n",
    "    if d.Get_Community_Lean() == \"Blue\":\n",
    "        districts_leaning_blue = districts_leaning_blue + 1\n",
    "    elif d.Get_Community_Lean() == \"Red\":\n",
    "        districts_leaning_red = districts_leaning_red + 1\n",
    "    elif d.Get_Community_Lean() == \"Grey\":\n",
    "        districts_leaning_grey = districts_leaning_grey + 1\n",
    "\n",
    "districts_lean = \"\"\n",
    "if districts_leaning_blue >= districts_leaning_red and districts_leaning_blue >= districts_leaning_grey:\n",
    "    districts_lean = \"Blue\"\n",
    "elif districts_leaning_red >= districts_leaning_blue and districts_leaning_red >= districts_leaning_grey:\n",
    "    districts_lean = \"Red\"\n",
    "elif districts_leaning_grey >= districts_leaning_blue and districts_leaning_grey >= districts_leaning_red:\n",
    "    districts_lean = \"Grey\"\n",
    "    \n",
    "print()\n",
    "print(district)\n",
    "print()\n",
    "print(\"\\t\\t\\tPlus\\tMinus\\tIndep\")\n",
    "print(\"Community leaning:\", community.Get_Community_Lean(), community.voter_lean_blue, \"\\t\", community.voter_lean_red, \"\\t\", community.voter_lean_grey)\n",
    "print(\"Districts leaning:\", districts_lean, districts_leaning_blue, \"\\t\", districts_leaning_red, \"\\t\", districts_leaning_grey)"
   ]
  },
  {
   "cell_type": "markdown",
   "id": "bb320a33",
   "metadata": {},
   "source": [
    "## Visualization Game 2"
   ]
  },
  {
   "cell_type": "code",
   "execution_count": null,
   "id": "07f8a6db",
   "metadata": {},
   "outputs": [],
   "source": [
    "#blank for now"
   ]
  },
  {
   "cell_type": "markdown",
   "id": "50aad354",
   "metadata": {},
   "source": [
    "## Evaluation Metrics Game 2"
   ]
  },
  {
   "cell_type": "code",
   "execution_count": null,
   "id": "220047ad",
   "metadata": {},
   "outputs": [],
   "source": [
    "#blank for now"
   ]
  },
  {
   "cell_type": "markdown",
   "id": "38fff05e",
   "metadata": {},
   "source": [
    "# GAME 3"
   ]
  },
  {
   "cell_type": "code",
   "execution_count": null,
   "id": "cd7a2d1b",
   "metadata": {},
   "outputs": [],
   "source": [
    "#gamescenario #3 - \n",
    "#A) #random leans w/ parameters as per 'community setup A'; \n",
    "#B) #random sequencing\n",
    "#C) #sequential districting 0-9, 10-19, etc. (post step 2)"
   ]
  },
  {
   "cell_type": "markdown",
   "id": "ef71917c",
   "metadata": {},
   "source": [
    "## 'Community C' Setup - Game 3   \n",
    "### (should be exactly same as Game2)"
   ]
  },
  {
   "cell_type": "code",
   "execution_count": 165,
   "id": "460a1dfb",
   "metadata": {},
   "outputs": [
    {
     "name": "stdout",
     "output_type": "stream",
     "text": [
      "\n",
      "---++++-+-+++-+++?+--?-?++--++-+?-+---------++++++++++++------------+----+++--++++++++---+++---+---+\n",
      "Red 47 49 4\n",
      "\n"
     ]
    }
   ],
   "source": [
    "Person = 0\n",
    "Blue_Limit = .52\n",
    "Red_Limit = .97\n",
    "Grey_Limit = 1\n",
    "Total_Blues = 0\n",
    "Total_Reds = 0\n",
    "Total_Greys = 0\n",
    "Total_Lean = \"\"\n",
    "community = Community()\n",
    "\n",
    "district = []\n",
    "\n",
    "while Person < 100:\n",
    "    number = rnd.random()\n",
    "    if number < Blue_Limit:\n",
    "        lean = \"+\"\n",
    "        Blue_Limit_New = .7\n",
    "        Red_Limit_New = .97\n",
    "        Grey_Limit_New = 1\n",
    "        Total_Blues = Total_Blues + 1\n",
    "    elif number < Red_Limit:\n",
    "        lean = \"-\"\n",
    "        Blue_Limit_New = .32\n",
    "        Red_Limit_New = .97\n",
    "        Grey_Limit_New = 1\n",
    "        Total_Reds = Total_Reds + 1\n",
    "    else:\n",
    "        lean = \"?\"\n",
    "        Blue_Limit_New = .45\n",
    "        Red_Limit_New = .9\n",
    "        Grey_Limit_New = 1\n",
    "        Total_Greys = Total_Greys + 1\n",
    "    v = Voter(lean)\n",
    "    community.Add_Voter(v)\n",
    "    Blue_Limit = Blue_Limit_New\n",
    "    Red_Limit = Red_Limit_New\n",
    "    Grey_Limit = Grey_Limit_New\n",
    "    Total_Lean = Total_Lean + lean\n",
    "    Person = Person + 1\n",
    "\n",
    "print()\n",
    "print(community.Get_Voter_String())\n",
    "print(community.Get_Community_Lean(), community.voter_lean_blue, community.voter_lean_red, community.voter_lean_grey)\n",
    "print()"
   ]
  },
  {
   "cell_type": "markdown",
   "id": "85c4f600",
   "metadata": {},
   "source": [
    "### randomize Sequencing after setup/generation"
   ]
  },
  {
   "cell_type": "code",
   "execution_count": 16,
   "id": "b66837d9",
   "metadata": {},
   "outputs": [],
   "source": [
    "#conver community string first to a pandas dataframe (familiarity with operations and visualization in dataframes only)"
   ]
  },
  {
   "cell_type": "code",
   "execution_count": 166,
   "id": "38815ba2",
   "metadata": {},
   "outputs": [],
   "source": [
    "y = community.Get_Voter_String()"
   ]
  },
  {
   "cell_type": "code",
   "execution_count": 167,
   "id": "5d16f4f4",
   "metadata": {},
   "outputs": [],
   "source": [
    "#import io\n",
    "data = io.StringIO(y)"
   ]
  },
  {
   "cell_type": "code",
   "execution_count": 168,
   "id": "3da6709a",
   "metadata": {},
   "outputs": [],
   "source": [
    "df = pd.read_csv(data) #may need to read with no separator arugument??"
   ]
  },
  {
   "cell_type": "code",
   "execution_count": 169,
   "id": "80848666",
   "metadata": {},
   "outputs": [
    {
     "data": {
      "text/html": [
       "<div>\n",
       "<style scoped>\n",
       "    .dataframe tbody tr th:only-of-type {\n",
       "        vertical-align: middle;\n",
       "    }\n",
       "\n",
       "    .dataframe tbody tr th {\n",
       "        vertical-align: top;\n",
       "    }\n",
       "\n",
       "    .dataframe thead th {\n",
       "        text-align: right;\n",
       "    }\n",
       "</style>\n",
       "<table border=\"1\" class=\"dataframe\">\n",
       "  <thead>\n",
       "    <tr style=\"text-align: right;\">\n",
       "      <th></th>\n",
       "      <th>---++++-+-+++-+++?+--?-?++--++-+?-+---------++++++++++++------------+----+++--++++++++---+++---+---+</th>\n",
       "    </tr>\n",
       "  </thead>\n",
       "  <tbody>\n",
       "  </tbody>\n",
       "</table>\n",
       "</div>"
      ],
      "text/plain": [
       "Empty DataFrame\n",
       "Columns: [---++++-+-+++-+++?+--?-?++--++-+?-+---------++++++++++++------------+----+++--++++++++---+++---+---+]\n",
       "Index: []"
      ]
     },
     "execution_count": 169,
     "metadata": {},
     "output_type": "execute_result"
    }
   ],
   "source": [
    "df"
   ]
  },
  {
   "cell_type": "code",
   "execution_count": 170,
   "id": "64651000",
   "metadata": {},
   "outputs": [
    {
     "data": {
      "text/plain": [
       "100"
      ]
     },
     "execution_count": 170,
     "metadata": {},
     "output_type": "execute_result"
    }
   ],
   "source": [
    "#might just copy and past for nwo....\n",
    "z = list(\"---++++-+-+++-+++?+--?-?++--++-+?-+---------++++++++++++------------+----+++--++++++++---+++---+---+\")\n",
    "len(z)"
   ]
  },
  {
   "cell_type": "code",
   "execution_count": 55,
   "id": "d1e6ea31",
   "metadata": {},
   "outputs": [],
   "source": [
    "#z"
   ]
  },
  {
   "cell_type": "code",
   "execution_count": 59,
   "id": "52dacafd",
   "metadata": {},
   "outputs": [],
   "source": [
    "# can try to randomize here... (it is a list)"
   ]
  },
  {
   "cell_type": "code",
   "execution_count": 171,
   "id": "ebb94efe",
   "metadata": {},
   "outputs": [
    {
     "data": {
      "text/plain": [
       "100"
      ]
     },
     "execution_count": 171,
     "metadata": {},
     "output_type": "execute_result"
    }
   ],
   "source": [
    "#randmize sequence\n",
    "#x = community\n",
    "#w = rnd.shuffle(z)\n",
    "w = rnd.sample(z, k=len(z))   #2nd 'RUNOFF' \n",
    "len(w) "
   ]
  },
  {
   "cell_type": "code",
   "execution_count": 70,
   "id": "0c9d9bbc",
   "metadata": {},
   "outputs": [],
   "source": [
    "#z "
   ]
  },
  {
   "cell_type": "code",
   "execution_count": 71,
   "id": "a2349560",
   "metadata": {},
   "outputs": [],
   "source": [
    "#w \n",
    "#ok i think it worked, it is a list object"
   ]
  },
  {
   "cell_type": "code",
   "execution_count": 172,
   "id": "82005029",
   "metadata": {},
   "outputs": [],
   "source": [
    "orig = pd.DataFrame(z)\n",
    "new = pd.DataFrame(w)\n",
    "orig.columns=['orig']\n",
    "new.columns=['new']"
   ]
  },
  {
   "cell_type": "code",
   "execution_count": 87,
   "id": "1927472a",
   "metadata": {},
   "outputs": [],
   "source": [
    "#new"
   ]
  },
  {
   "cell_type": "code",
   "execution_count": 173,
   "id": "f4ce3712",
   "metadata": {},
   "outputs": [],
   "source": [
    "comp = pd.concat([orig.reset_index(drop=True), new.reset_index(drop=True)], axis=1)\n",
    "#available for reference"
   ]
  },
  {
   "cell_type": "code",
   "execution_count": 110,
   "id": "d1699428",
   "metadata": {},
   "outputs": [],
   "source": [
    "#now convert new back to a single character stringto play the game\n",
    "#use w from above\n",
    "#w"
   ]
  },
  {
   "cell_type": "code",
   "execution_count": 174,
   "id": "d07868be",
   "metadata": {},
   "outputs": [],
   "source": [
    "community_str = \"\".join(w)"
   ]
  },
  {
   "cell_type": "code",
   "execution_count": 175,
   "id": "838b2048",
   "metadata": {},
   "outputs": [
    {
     "data": {
      "text/plain": [
       "'--+--+-++---+-----+--+++--++--++--+?++---+---?-+++-+--++-+--++--++++--+-++-++--+-?--+-+++++++?--++-+'"
      ]
     },
     "execution_count": 175,
     "metadata": {},
     "output_type": "execute_result"
    }
   ],
   "source": [
    "community_str  #but needs to be an object"
   ]
  },
  {
   "cell_type": "markdown",
   "id": "37a40b0a",
   "metadata": {},
   "source": [
    "## Play - Game 3"
   ]
  },
  {
   "cell_type": "code",
   "execution_count": 176,
   "id": "93e0ebad",
   "metadata": {},
   "outputs": [],
   "source": [
    "game3comm = Community()\n",
    "game3comm.Set_Voter_List(community_str)"
   ]
  },
  {
   "cell_type": "code",
   "execution_count": 177,
   "id": "c8b6fc19",
   "metadata": {},
   "outputs": [
    {
     "name": "stdout",
     "output_type": "stream",
     "text": [
      "\n",
      "--+--+-++-\n",
      "Red\n",
      "\n",
      "--+-----+-\n",
      "Red\n",
      "\n",
      "-+++--++--\n",
      "Blue\n",
      "\n",
      "++--+?++--\n",
      "Blue\n",
      "\n",
      "-+---?-+++\n",
      "Red\n",
      "\n",
      "-+--++-+--\n",
      "Red\n",
      "\n",
      "++--++++--\n",
      "Blue\n",
      "\n",
      "+-++-++--+\n",
      "Blue\n",
      "\n",
      "-?--+-++++\n",
      "Blue\n",
      "\n",
      "+++?--++-+\n",
      "Blue\n",
      "\n",
      "Red 47 49 4\n",
      "Blue 6 4 0\n"
     ]
    }
   ],
   "source": [
    "#districts_leaning_blue = 0\n",
    "#districts_leaning_red = 0\n",
    "#districts_leaning_grey = 0\n",
    "\n",
    "\n",
    "#let's split up our community in smaller communities (i.e. districts)\n",
    "for i in range(0, 10):\n",
    "    #define a district\n",
    "    D = Community()  #this is a district\n",
    "    #assign the proper voters to the proper district (voters 0 through 9 to District 1, voters 10 through 19 to District 2, etc...)\n",
    "    D.voter_list = game3comm.voter_list[i*10 : i*10 + 10]\n",
    "    game3comm.Add_District(D)\n",
    "    print()\n",
    "    print (D.Get_Voter_String())\n",
    "    print (D.Get_Community_Lean())\n",
    "   # voter_ls.clear()\n",
    "districts_leaning_blue = 0\n",
    "districts_leaning_red = 0\n",
    "districts_leaning_grey = 0\n",
    "for d in game3comm.voter_districts:\n",
    "    if d.Get_Community_Lean() == \"Blue\":\n",
    "        districts_leaning_blue = districts_leaning_blue + 1\n",
    "    elif d.Get_Community_Lean() == \"Red\":\n",
    "        districts_leaning_red = districts_leaning_red + 1\n",
    "    elif d.Get_Community_Lean() == \"Grey\":\n",
    "        districts_leaning_grey = districts_leaning_grey + 1\n",
    "districts_lean = \"\"\n",
    "if districts_leaning_blue >= districts_leaning_red and districts_leaning_blue >= districts_leaning_grey:\n",
    "    districts_lean = \"Blue\"\n",
    "elif districts_leaning_red >= districts_leaning_blue and districts_leaning_red >= districts_leaning_grey:\n",
    "    districts_lean = \"Red\"\n",
    "elif districts_leaning_grey >= districts_leaning_blue and districts_leaning_grey >= districts_leaning_red:\n",
    "    districts_lean = \"Grey\"\n",
    "print()\n",
    "print (game3comm.Get_Community_Lean(), game3comm.voter_lean_blue, game3comm.voter_lean_red, game3comm.voter_lean_grey)\n",
    "print (districts_lean, districts_leaning_blue, districts_leaning_red, districts_leaning_grey)"
   ]
  },
  {
   "cell_type": "code",
   "execution_count": null,
   "id": "d0c55ee6",
   "metadata": {},
   "outputs": [],
   "source": []
  }
 ],
 "metadata": {
  "environment": {
   "name": "common-cpu.m73",
   "type": "gcloud",
   "uri": "gcr.io/deeplearning-platform-release/base-cpu:m73"
  },
  "kernelspec": {
   "display_name": "Python 3",
   "language": "python",
   "name": "python3"
  },
  "language_info": {
   "codemirror_mode": {
    "name": "ipython",
    "version": 3
   },
   "file_extension": ".py",
   "mimetype": "text/x-python",
   "name": "python",
   "nbconvert_exporter": "python",
   "pygments_lexer": "ipython3",
   "version": "3.7.10"
  }
 },
 "nbformat": 4,
 "nbformat_minor": 5
}
