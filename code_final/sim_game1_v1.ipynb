{
 "cells": [
  {
   "cell_type": "code",
   "execution_count": 86,
   "id": "d48fed5e",
   "metadata": {},
   "outputs": [],
   "source": [
    "#games1,2,3 - trying 4 (baseline is game1)\n",
    "#071221\n",
    "#try to add viz (multicolor) and alternate groupong scenarios"
   ]
  },
  {
   "cell_type": "markdown",
   "id": "48a673c4",
   "metadata": {},
   "source": [
    "# ALTERNATE PROPOSALS FOR THE U.S. VOTER DISTRICTING PROCESS USING HUMAN COLLABORATION, HIGH PERFORMANCE COMPUTING, and METRICS TO EVALUATE REPRESENTATIVENESS"
   ]
  },
  {
   "cell_type": "markdown",
   "id": "fa6f4202",
   "metadata": {},
   "source": [
    "**Goal:**  Propose a generalized districting procedure for any US State / Metro Area.\n",
    "\n",
    "**Rules:**  \n",
    "     1) ~ equal. # of voters per district  \n",
    "     2) absolutely no discrimination (classification) based on race or ethnicity or (other)    \n",
    "\n",
    "**Options:**  \n",
    "classifying based on some other parameter may be ok and preferred.    \n",
    "\n",
    "**Approach:**  \n",
    "Begin with a randomly generated community of 100 entities, each with its entity \"lean\".  Simulate the total community lean based on various grouping processes.  Determine if the total (aggregate) community lean (after grouping) reflects the entity ground truth.  \n",
    "    1) Sim 1:  Determine community \"lean\" based on sequential order partion of the community, in groups of 10.      \n",
    "    2) Sim 2:  Determine community \"lean\" based on an 'every 10' partion of the commmunity, in groups of 10.  \n",
    "    3) Sim 3:  Determine community \"lean\" based on a 'randomized' partition of the community, in groups of 10.  \n",
    "    4) ...  \n",
    "    5) ...  \n",
    "    6) ...  \n",
    "    \n",
    "**Analysis:**  \n",
    "In all Sims above, compare community \"lean\" results against the ground truth statistical proportions of the entities to the  community as a whole.  \n",
    "Do they agree?  How often?  \n",
    "Do they disagree?  How often?  Why?  \n",
    "\n",
    "**Next Steps:**  \n",
    "Test these Sims against historical voter data to determine better districting options for the present & future.  We suspect the best Sim for a specific location will not always be the same (due to the unique composition of the entities); however, the approach and framework should scale extremely well.\n",
    "\n"
   ]
  },
  {
   "cell_type": "code",
   "execution_count": 87,
   "id": "73432f2a",
   "metadata": {},
   "outputs": [],
   "source": [
    "import random as rnd\n",
    "from typing import Sized\n",
    "import pandas as pd\n",
    "import numpy as np\n",
    "import seaborn as sns\n",
    "import matplotlib.pyplot as plt\n",
    "import sklearn\n",
    "import io"
   ]
  },
  {
   "cell_type": "markdown",
   "id": "298048f8",
   "metadata": {},
   "source": [
    "## Class Definitions (Voter and Community)"
   ]
  },
  {
   "cell_type": "code",
   "execution_count": 88,
   "id": "fd1e52ab",
   "metadata": {},
   "outputs": [],
   "source": [
    "#Voter class\n",
    "\n",
    "class Voter():\n",
    "    def __init__(self):\n",
    "        self.lean = \"_\"\n",
    "    def __init__(self, lean):\n",
    "        self.lean = lean\n",
    "    def set_lean(self, voter_lean):\n",
    "        self.lean = voter_lean\n",
    "        \n",
    "#Community class       \n",
    "class Community():\n",
    "    def __init__(self):\n",
    "        self.voter_list = [] # a community is a collection of voters\n",
    "        self.voter_districts = [] # a community is also a collection of districts, voters belong in districts\n",
    "        self.voter_lean_blue = 0\n",
    "        self.voter_lean_red = 0\n",
    "        self.voter_lean_grey = 0\n",
    "    def Add_Voter(self, voter):\n",
    "        self.voter_list.append(voter)\n",
    "    def Add_District(self, district):\n",
    "        self.voter_districts.append(district)\n",
    "        \n",
    "    def Set_Voter_List(self, voter_string):\n",
    "        self.voter_list = [Voter(lean) for lean in voter_string]\n",
    "        \n",
    "    def Get_Voter_String(self):\n",
    "        Voter_String = \"\"\n",
    "        for v in self.voter_list:\n",
    "            Voter_String = Voter_String + v.lean\n",
    "        return Voter_String\n",
    "    \n",
    "    def Get_Community_Lean(self):\n",
    "        self.voter_lean_blue = 0\n",
    "        self.voter_lean_red = 0\n",
    "        self.voter_lean_grey = 0\n",
    "        for voter in self.voter_list:\n",
    "            if voter.lean == \"+\":\n",
    "                self.voter_lean_blue = self.voter_lean_blue + 1\n",
    "            elif voter.lean == \"-\":\n",
    "                self.voter_lean_red = self.voter_lean_red + 1\n",
    "            else:\n",
    "                self.voter_lean_grey = self.voter_lean_grey + 1\n",
    "        if self.voter_lean_blue >= self.voter_lean_red and self.voter_lean_blue >= self.voter_lean_grey:\n",
    "            community_lean = \"Blue\"\n",
    "        elif self.voter_lean_red >= self.voter_lean_blue and self.voter_lean_red >= self.voter_lean_grey:\n",
    "            community_lean = \"Red\"\n",
    "        elif self.voter_lean_grey >= self.voter_lean_blue and self.voter_lean_grey >= self.voter_lean_red:\n",
    "            community_lean = \"Grey\"\n",
    "        return community_lean"
   ]
  },
  {
   "cell_type": "markdown",
   "id": "e139f62a",
   "metadata": {},
   "source": [
    "# GAME 1:  1-STEP AT A TIME"
   ]
  },
  {
   "cell_type": "markdown",
   "id": "b622fbcc",
   "metadata": {},
   "source": [
    "## 'Community A' Setup - Game 1"
   ]
  },
  {
   "cell_type": "code",
   "execution_count": 89,
   "id": "1a79ded6",
   "metadata": {},
   "outputs": [
    {
     "name": "stdout",
     "output_type": "stream",
     "text": [
      "\n",
      "++---++--+-+----------+++-+++++++--+-+++++?+++++++++--+++++--++++++++++-----++++++--------++---+?+--\n",
      "Blue 56 42 2\n",
      "\n"
     ]
    }
   ],
   "source": [
    "#create a random selection of 100 people\n",
    "#40% chance \"+\", 30% chance \"-\", 30% chance \"?\"\n",
    "#0-.4 Blue .4-.7 Red .7-1 Grey\n",
    "#you are *more likely* to be the same color as your neighbor\n",
    "Person = 0\n",
    "Blue_Limit = .52\n",
    "Red_Limit = .97\n",
    "Grey_Limit = 1\n",
    "Total_Blues = 0\n",
    "Total_Reds = 0\n",
    "Total_Greys = 0\n",
    "Total_Lean = \"\"\n",
    "community = Community()\n",
    "while Person < 100:\n",
    "    number = rnd.random()\n",
    "    if number < Blue_Limit:\n",
    "        lean = \"+\"\n",
    "        Blue_Limit_New = .7\n",
    "        Red_Limit_New = .97\n",
    "        Grey_Limit_New = 1\n",
    "        Total_Blues = Total_Blues + 1\n",
    "    elif number < Red_Limit:\n",
    "        lean = \"-\"\n",
    "        Blue_Limit_New = .32\n",
    "        Red_Limit_New = .97\n",
    "        Grey_Limit_New = 1\n",
    "        Total_Reds = Total_Reds + 1\n",
    "    else:\n",
    "        lean = \"?\"\n",
    "        Blue_Limit_New = .45\n",
    "        Red_Limit_New = .9\n",
    "        Grey_Limit_New = 1\n",
    "        Total_Greys = Total_Greys + 1\n",
    "    v = Voter(lean)\n",
    "    community.Add_Voter(v)\n",
    "    Blue_Limit = Blue_Limit_New\n",
    "    Red_Limit = Red_Limit_New\n",
    "    Grey_Limit = Grey_Limit_New\n",
    "    Total_Lean = Total_Lean + lean\n",
    "    Person = Person + 1\n",
    "print ()\n",
    "print (community.Get_Voter_String())\n",
    "print (community.Get_Community_Lean(), community.voter_lean_blue, community.voter_lean_red, community.voter_lean_grey)\n",
    "print ()"
   ]
  },
  {
   "cell_type": "markdown",
   "id": "9edf1798",
   "metadata": {},
   "source": [
    "## Play (Districting) - Game 1:  "
   ]
  },
  {
   "cell_type": "code",
   "execution_count": 90,
   "id": "87dcae1c",
   "metadata": {},
   "outputs": [
    {
     "name": "stdout",
     "output_type": "stream",
     "text": [
      "Blue 56 42 2\n",
      "Blue 7 3 0\n"
     ]
    }
   ],
   "source": [
    "#gamescenario #1 - \n",
    "#A) #random leans w/ parameters as per 'community setup A'; \n",
    "#B) #sequential districting 0-9, 10-19, etc.\n",
    "\n",
    "#let's split up our community in smaller communities (i.e. districts)\n",
    "for i in range(0, 10):\n",
    "    #define a district\n",
    "    D = Community()\n",
    "    #assign the proper voters to the proper district (voters 0 through 9 to District 1, voters 10 through 19 to District 2, etc...)\n",
    "    D.voter_list = community.voter_list[i*10 : i*10 + 10]\n",
    "    community.Add_District(D)\n",
    "  #  print()\n",
    "  #  print (D.Get_Voter_String())\n",
    "  #  print (D.Get_Community_Lean())\n",
    "districts_leaning_blue = 0\n",
    "districts_leaning_red = 0\n",
    "districts_leaning_grey = 0\n",
    "for d in community.voter_districts:\n",
    "    if d.Get_Community_Lean() == \"Blue\":\n",
    "        districts_leaning_blue = districts_leaning_blue + 1\n",
    "    elif d.Get_Community_Lean() == \"Red\":\n",
    "        districts_leaning_red = districts_leaning_red + 1\n",
    "    elif d.Get_Community_Lean() == \"Grey\":\n",
    "        districts_leaning_grey = districts_leaning_grey + 1\n",
    "districts_lean = \"\"\n",
    "if districts_leaning_blue >= districts_leaning_red and districts_leaning_blue >= districts_leaning_grey:\n",
    "    districts_lean = \"Blue\"\n",
    "elif districts_leaning_red >= districts_leaning_blue and districts_leaning_red >= districts_leaning_grey:\n",
    "    districts_lean = \"Red\"\n",
    "elif districts_leaning_grey >= districts_leaning_blue and districts_leaning_grey >= districts_leaning_red:\n",
    "    districts_lean = \"Grey\"\n",
    "#print()\n",
    "print (community.Get_Community_Lean(), community.voter_lean_blue, community.voter_lean_red, community.voter_lean_grey)\n",
    "print (districts_lean, districts_leaning_blue, districts_leaning_red, districts_leaning_grey)"
   ]
  },
  {
   "cell_type": "markdown",
   "id": "a54e9677",
   "metadata": {},
   "source": [
    "## Visualization Game 1"
   ]
  },
  {
   "cell_type": "code",
   "execution_count": 105,
   "id": "0ff9f403",
   "metadata": {},
   "outputs": [
    {
     "name": "stderr",
     "output_type": "stream",
     "text": [
      "/opt/conda/lib/python3.7/site-packages/ipykernel_launcher.py:23: MatplotlibDeprecationWarning: Passing the pad parameter of tight_layout() positionally is deprecated since Matplotlib 3.3; the parameter will become keyword-only two minor releases later.\n"
     ]
    },
    {
     "data": {
      "image/png": "[encoded data removed]",
      "text/plain": [
       "<Figure size 1080x576 with 2 Axes>"
      ]
     },
     "metadata": {
      "needs_background": "light"
     },
     "output_type": "display_data"
    }
   ],
   "source": [
    "ent = pd.DataFrame({'ent':[community.voter_lean_blue, community.voter_lean_red, community.voter_lean_grey]})\n",
    "sel = pd.DataFrame({'sel':[districts_leaning_blue*10, districts_leaning_red*10, districts_leaning_grey*10]})\n",
    "\n",
    "#ent\n",
    "#sel\n",
    "\n",
    "plt.subplots(figsize=(15, 8))\n",
    "\n",
    "plt.subplot(1, 2, 1)\n",
    "plt.bar(['+','-','?'], ent['ent'], color = ['gold', 'purple', 'darkcyan'])\n",
    "plt.xlabel('LEAN')\n",
    "plt.ylabel('Percentage of Population')\n",
    "plt.ylim(0,100)\n",
    "plt.title('INDIVIDUAL LEANING')\n",
    "\n",
    "plt.subplot(1, 2, 2)\n",
    "plt.bar(['+','-','?'], sel['sel'], color = ['gold', 'purple', 'darkcyan'])\n",
    "plt.xlabel('LEAN')\n",
    "plt.ylabel('Percentage of Districts')\n",
    "plt.ylim(0,100)\n",
    "plt.title('COMMUNITY LEANING')\n",
    "\n",
    "plt.tight_layout(4)\n",
    "plt.show()"
   ]
  }
 ],
 "metadata": {
  "environment": {
   "name": "common-cpu.m73",
   "type": "gcloud",
   "uri": "gcr.io/deeplearning-platform-release/base-cpu:m73"
  },
  "kernelspec": {
   "display_name": "Python 3",
   "language": "python",
   "name": "python3"
  },
  "language_info": {
   "codemirror_mode": {
    "name": "ipython",
    "version": 3
   },
   "file_extension": ".py",
   "mimetype": "text/x-python",
   "name": "python",
   "nbconvert_exporter": "python",
   "pygments_lexer": "ipython3",
   "version": "3.7.10"
  }
 },
 "nbformat": 4,
 "nbformat_minor": 5
}
