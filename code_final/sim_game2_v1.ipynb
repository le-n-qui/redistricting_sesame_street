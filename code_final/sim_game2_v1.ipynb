{
 "cells": [
  {
   "cell_type": "code",
   "execution_count": 61,
   "id": "bc7fef8d",
   "metadata": {},
   "outputs": [],
   "source": [
    "#games1,2,3 - trying 4 (baseline is game1)\n",
    "#071221\n",
    "#try to add viz (multicolor) and alternate groupong scenarios"
   ]
  },
  {
   "cell_type": "markdown",
   "id": "2d4a40c5",
   "metadata": {},
   "source": [
    "# ALTERNATE PROPOSALS FOR THE U.S. VOTER DISTRICTING PROCESS USING HUMAN COLLABORATION, HIGH PERFORMANCE COMPUTING, and METRICS TO EVALUATE REPRESENTATIVENESS"
   ]
  },
  {
   "cell_type": "markdown",
   "id": "a04e1f6f",
   "metadata": {},
   "source": [
    "**Goal:**  Propose a generalized districting procedure for any US State / Metro Area.\n",
    "\n",
    "**Rules:**  \n",
    "     1) ~ equal. # of voters per district  \n",
    "     2) absolutely no discrimination (classification) based on race or ethnicity or (other)    \n",
    "\n",
    "**Options:**  \n",
    "classifying based on some other parameter may be ok and preferred.    \n",
    "\n",
    "**Approach:**  \n",
    "Begin with a randomly generated community of 100 entities, each with its entity \"lean\".  Simulate the total community lean based on various grouping processes.  Determine if the total (aggregate) community lean (after grouping) reflects the entity ground truth.  \n",
    "    1) Sim 1:  Determine community \"lean\" based on sequential order partion of the community, in groups of 10.      \n",
    "    2) Sim 2:  Determine community \"lean\" based on an 'every 10' partion of the commmunity, in groups of 10.  \n",
    "    3) Sim 3:  Determine community \"lean\" based on a 'randomized' partition of the community, in groups of 10.  \n",
    "    4) ...  \n",
    "    5) ...  \n",
    "    6) ...  \n",
    "    \n",
    "**Analysis:**  \n",
    "In all Sims above, compare community \"lean\" results against the ground truth statistical proportions of the entities to the  community as a whole.  \n",
    "Do they agree?  How often?  \n",
    "Do they disagree?  How often?  Why?  \n",
    "\n",
    "**Next Steps:**  \n",
    "Test these Sims against historical voter data to determine better districting options for the present & future.  We suspect the best Sim for a specific location will not always be the same (due to the unique composition of the entities); however, the approach and framework should scale extremely well.\n",
    "\n"
   ]
  },
  {
   "cell_type": "code",
   "execution_count": 62,
   "id": "2eed9e47",
   "metadata": {},
   "outputs": [],
   "source": [
    "import random as rnd\n",
    "from typing import Sized\n",
    "import pandas as pd\n",
    "import numpy as np\n",
    "import seaborn as sns\n",
    "import matplotlib.pyplot as plt\n",
    "import sklearn\n",
    "import io"
   ]
  },
  {
   "cell_type": "markdown",
   "id": "0b88bfc4",
   "metadata": {},
   "source": [
    "## Class Definitions (Voter and Community)"
   ]
  },
  {
   "cell_type": "code",
   "execution_count": 63,
   "id": "998deb8f",
   "metadata": {},
   "outputs": [],
   "source": [
    "#Voter class\n",
    "\n",
    "class Voter():\n",
    "    def __init__(self):\n",
    "        self.lean = \"_\"\n",
    "    def __init__(self, lean):\n",
    "        self.lean = lean\n",
    "    def set_lean(self, voter_lean):\n",
    "        self.lean = voter_lean\n",
    "        \n",
    "#Community class       \n",
    "class Community():\n",
    "    def __init__(self):\n",
    "        self.voter_list = [] # a community is a collection of voters\n",
    "        self.voter_districts = [] # a community is also a collection of districts, voters belong in districts\n",
    "        self.voter_lean_blue = 0\n",
    "        self.voter_lean_red = 0\n",
    "        self.voter_lean_grey = 0\n",
    "    def Add_Voter(self, voter):\n",
    "        self.voter_list.append(voter)\n",
    "    def Add_District(self, district):\n",
    "        self.voter_districts.append(district)\n",
    "        \n",
    "    def Set_Voter_List(self, voter_string):\n",
    "        self.voter_list = [Voter(lean) for lean in voter_string]\n",
    "        \n",
    "    def Get_Voter_String(self):\n",
    "        Voter_String = \"\"\n",
    "        for v in self.voter_list:\n",
    "            Voter_String = Voter_String + v.lean\n",
    "        return Voter_String\n",
    "    \n",
    "    def Get_Community_Lean(self):\n",
    "        self.voter_lean_blue = 0\n",
    "        self.voter_lean_red = 0\n",
    "        self.voter_lean_grey = 0\n",
    "        for voter in self.voter_list:\n",
    "            if voter.lean == \"+\":\n",
    "                self.voter_lean_blue = self.voter_lean_blue + 1\n",
    "            elif voter.lean == \"-\":\n",
    "                self.voter_lean_red = self.voter_lean_red + 1\n",
    "            else:\n",
    "                self.voter_lean_grey = self.voter_lean_grey + 1\n",
    "        if self.voter_lean_blue >= self.voter_lean_red and self.voter_lean_blue >= self.voter_lean_grey:\n",
    "            community_lean = \"Blue\"\n",
    "        elif self.voter_lean_red >= self.voter_lean_blue and self.voter_lean_red >= self.voter_lean_grey:\n",
    "            community_lean = \"Red\"\n",
    "        elif self.voter_lean_grey >= self.voter_lean_blue and self.voter_lean_grey >= self.voter_lean_red:\n",
    "            community_lean = \"Grey\"\n",
    "        return community_lean"
   ]
  },
  {
   "cell_type": "markdown",
   "id": "db1c5056",
   "metadata": {},
   "source": [
    "# GAME 2:  10-STEP LEAP"
   ]
  },
  {
   "cell_type": "markdown",
   "id": "43cd1a14",
   "metadata": {},
   "source": [
    "## 'Community B' Setup - Game 2   \n",
    "### (should be more or less the same as Game1, different syntax)"
   ]
  },
  {
   "cell_type": "code",
   "execution_count": 64,
   "id": "57ec1344",
   "metadata": {},
   "outputs": [
    {
     "name": "stdout",
     "output_type": "stream",
     "text": [
      "\n",
      "??-----?++++---++----++--+---++++++?-----+++++++++--++----+-+++++++-+++++++-----------+---+++-?--+--\n",
      "Red 46 49 5\n",
      "\n"
     ]
    }
   ],
   "source": [
    "#gamescenario #2 - \n",
    "#A) #random leans w/ parameters as per 'community setup A'; \n",
    "#B) #decadal districting 0,10,20..., 1,11,21..., 9,19,29..., etc.\n",
    "\n",
    "Person = 0\n",
    "Blue_Limit = .52\n",
    "Red_Limit = .97\n",
    "Grey_Limit = 1\n",
    "Total_Blues = 0\n",
    "Total_Reds = 0\n",
    "Total_Greys = 0\n",
    "Total_Lean = \"\"\n",
    "community = Community()\n",
    "\n",
    "district = []\n",
    "\n",
    "while Person < 100:\n",
    "    number = rnd.random()\n",
    "    if number < Blue_Limit:\n",
    "        lean = \"+\"\n",
    "        Blue_Limit_New = .7\n",
    "        Red_Limit_New = .97\n",
    "        Grey_Limit_New = 1\n",
    "        Total_Blues = Total_Blues + 1\n",
    "    elif number < Red_Limit:\n",
    "        lean = \"-\"\n",
    "        Blue_Limit_New = .32\n",
    "        Red_Limit_New = .97\n",
    "        Grey_Limit_New = 1\n",
    "        Total_Reds = Total_Reds + 1\n",
    "    else:\n",
    "        lean = \"?\"\n",
    "        Blue_Limit_New = .45\n",
    "        Red_Limit_New = .9\n",
    "        Grey_Limit_New = 1\n",
    "        Total_Greys = Total_Greys + 1\n",
    "    v = Voter(lean)\n",
    "    community.Add_Voter(v)\n",
    "    Blue_Limit = Blue_Limit_New\n",
    "    Red_Limit = Red_Limit_New\n",
    "    Grey_Limit = Grey_Limit_New\n",
    "    Total_Lean = Total_Lean + lean\n",
    "    Person = Person + 1\n",
    "\n",
    "print()\n",
    "print(community.Get_Voter_String())\n",
    "print(community.Get_Community_Lean(), community.voter_lean_blue, community.voter_lean_red, community.voter_lean_grey)\n",
    "print()"
   ]
  },
  {
   "cell_type": "markdown",
   "id": "f239ce12",
   "metadata": {},
   "source": [
    "## Play - Game 2:  "
   ]
  },
  {
   "cell_type": "code",
   "execution_count": 65,
   "id": "46e987b7",
   "metadata": {},
   "outputs": [
    {
     "name": "stdout",
     "output_type": "stream",
     "text": [
      "\n",
      "?+-+--++-+\n",
      "Blue\n",
      "\n",
      "?++++-++-+\n",
      "Blue\n",
      "\n",
      "--++++++-+\n",
      "Blue\n",
      "\n",
      "---+++++--\n",
      "Blue\n",
      "\n",
      "---++-++-?\n",
      "Red\n",
      "\n",
      "-++?+-+---\n",
      "Red\n",
      "\n",
      "-+--+-+-+-\n",
      "Red\n",
      "\n",
      "?---+----+\n",
      "Red\n",
      "\n",
      "+---+++---\n",
      "Red\n",
      "\n",
      "+-+-+-+---\n",
      "Red\n",
      "\n",
      "[['?+-+--++-+'], ['?++++-++-+'], ['--++++++-+'], ['---+++++--'], ['---++-++-?'], ['-++?+-+---'], ['-+--+-+-+-'], ['?---+----+'], ['+---+++---'], ['+-+-+-+---']]\n",
      "\n",
      "\t\t\tPlus\tMinus\tIndep\n",
      "Community leaning: Red 46 \t 49 \t 5\n",
      "Districts leaning: Blue 10 \t 0 \t 0\n"
     ]
    }
   ],
   "source": [
    "#let's split up our community in smaller communities (i.e. districts)\n",
    "##\n",
    "# community size:\n",
    "com_size = 100\n",
    "# step size\n",
    "step = 10 #this is mathematia bias, it is seeming an independent choice, but it always seems to end up 10/0\n",
    "# temporary holder of voters\n",
    "voter_ls = []\n",
    "##\n",
    "for i in range(0, 10):\n",
    "    #define a district\n",
    "    D = Community()\n",
    "    \n",
    "    #assign the proper voters to the proper district (voters 0 through 9 to District 1, voters 10 through 19 to District 2, etc...)\n",
    "    # D.voter_list = community.voter_list[i*10 : i*10 + 10]\n",
    "    \n",
    "    ##\n",
    "    # Update voter index for next district starting at i\n",
    "    voter_index = i\n",
    "    # Iterate through the community.voter_list (1D)\n",
    "    while voter_index < com_size: # Reminder: make a constant for 100\n",
    "        # Pick a voter: one in every ten \n",
    "        # Append to voter_ls\n",
    "        voter_ls.append(community.voter_list[voter_index])\n",
    "        # Update voter index\n",
    "        voter_index = voter_index + step\n",
    "    # Append\n",
    "    D.voter_list = voter_ls\n",
    "    ##\n",
    "    \n",
    "    community.Add_District(D)\n",
    "    print()\n",
    "    print(D.Get_Voter_String())\n",
    "    # put voter string into district\n",
    "    district.append(D.Get_Voter_String().split())\n",
    "    \n",
    "    print(D.Get_Community_Lean())\n",
    "    \n",
    "    ## Reset temporary voter_ls\n",
    "    voter_ls.clear()\n",
    "    \n",
    "districts_leaning_blue = 0\n",
    "districts_leaning_red = 0\n",
    "districts_leaning_grey = 0\n",
    "\n",
    "for d in community.voter_districts: # voter_districts after split\n",
    "    if d.Get_Community_Lean() == \"Blue\":\n",
    "        districts_leaning_blue = districts_leaning_blue + 1\n",
    "    elif d.Get_Community_Lean() == \"Red\":\n",
    "        districts_leaning_red = districts_leaning_red + 1\n",
    "    elif d.Get_Community_Lean() == \"Grey\":\n",
    "        districts_leaning_grey = districts_leaning_grey + 1\n",
    "\n",
    "districts_lean = \"\"\n",
    "if districts_leaning_blue >= districts_leaning_red and districts_leaning_blue >= districts_leaning_grey:\n",
    "    districts_lean = \"Blue\"\n",
    "elif districts_leaning_red >= districts_leaning_blue and districts_leaning_red >= districts_leaning_grey:\n",
    "    districts_lean = \"Red\"\n",
    "elif districts_leaning_grey >= districts_leaning_blue and districts_leaning_grey >= districts_leaning_red:\n",
    "    districts_lean = \"Grey\"\n",
    "    \n",
    "print()\n",
    "print(district)\n",
    "print()\n",
    "print(\"\\t\\t\\tPlus\\tMinus\\tIndep\")\n",
    "print(\"Community leaning:\", community.Get_Community_Lean(), community.voter_lean_blue, \"\\t\", community.voter_lean_red, \"\\t\", community.voter_lean_grey)\n",
    "print(\"Districts leaning:\", districts_lean, districts_leaning_blue, \"\\t\", districts_leaning_red, \"\\t\", districts_leaning_grey)"
   ]
  },
  {
   "cell_type": "markdown",
   "id": "90c135d2",
   "metadata": {},
   "source": [
    "## Visualization Game 2"
   ]
  },
  {
   "cell_type": "code",
   "execution_count": 71,
   "id": "4230d7d9",
   "metadata": {},
   "outputs": [
    {
     "name": "stderr",
     "output_type": "stream",
     "text": [
      "/opt/conda/lib/python3.7/site-packages/ipykernel_launcher.py:23: MatplotlibDeprecationWarning: Passing the pad parameter of tight_layout() positionally is deprecated since Matplotlib 3.3; the parameter will become keyword-only two minor releases later.\n"
     ]
    },
    {
     "data": {
      "image/png": "[encoded data removed]",
      "text/plain": [
       "<Figure size 1080x576 with 2 Axes>"
      ]
     },
     "metadata": {
      "needs_background": "light"
     },
     "output_type": "display_data"
    }
   ],
   "source": [
    "ent = pd.DataFrame({'ent':[community.voter_lean_blue, community.voter_lean_red, community.voter_lean_grey]})\n",
    "sel = pd.DataFrame({'sel':[districts_leaning_blue*10, districts_leaning_red*10, districts_leaning_grey*10]})\n",
    "\n",
    "#ent\n",
    "#sel\n",
    "\n",
    "plt.subplots(figsize=(15, 8))\n",
    "\n",
    "plt.subplot(1, 2, 1)\n",
    "plt.bar(['+','-','?'], ent['ent'], color = ['gold', 'purple', 'darkcyan'])\n",
    "plt.xlabel('LEAN')\n",
    "plt.ylabel('Percentage of Population')\n",
    "plt.ylim(0,100)\n",
    "plt.title('INDIVIDUAL LEANING')\n",
    "\n",
    "plt.subplot(1, 2, 2)\n",
    "plt.bar(['+','-','?'], sel['sel'], color = ['gold', 'purple', 'darkcyan'])\n",
    "plt.xlabel('LEAN')\n",
    "plt.ylabel('Percentage of Districts')\n",
    "plt.ylim(0,100)\n",
    "plt.title('COMMUNITY LEANING')\n",
    "\n",
    "plt.tight_layout(4)\n",
    "plt.show()"
   ]
  },
  {
   "cell_type": "code",
   "execution_count": 67,
   "id": "478c7274",
   "metadata": {},
   "outputs": [
    {
     "name": "stdout",
     "output_type": "stream",
     "text": [
      "done\n"
     ]
    }
   ],
   "source": [
    "print('done')"
   ]
  }
 ],
 "metadata": {
  "environment": {
   "name": "common-cpu.m73",
   "type": "gcloud",
   "uri": "gcr.io/deeplearning-platform-release/base-cpu:m73"
  },
  "kernelspec": {
   "display_name": "Python 3",
   "language": "python",
   "name": "python3"
  },
  "language_info": {
   "codemirror_mode": {
    "name": "ipython",
    "version": 3
   },
   "file_extension": ".py",
   "mimetype": "text/x-python",
   "name": "python",
   "nbconvert_exporter": "python",
   "pygments_lexer": "ipython3",
   "version": "3.7.10"
  }
 },
 "nbformat": 4,
 "nbformat_minor": 5
}
